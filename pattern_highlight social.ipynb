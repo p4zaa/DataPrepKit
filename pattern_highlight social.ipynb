{
 "cells": [
  {
   "cell_type": "markdown",
   "metadata": {},
   "source": [
    "# NPS Corporate"
   ]
  },
  {
   "cell_type": "code",
   "execution_count": 1,
   "metadata": {},
   "outputs": [
    {
     "ename": "KeyboardInterrupt",
     "evalue": "",
     "output_type": "error",
     "traceback": [
      "\u001b[1;31m---------------------------------------------------------------------------\u001b[0m",
      "\u001b[1;31mKeyboardInterrupt\u001b[0m                         Traceback (most recent call last)",
      "Cell \u001b[1;32mIn[1], line 4\u001b[0m\n\u001b[0;32m      2\u001b[0m \u001b[38;5;28;01mimport\u001b[39;00m \u001b[38;5;21;01mre\u001b[39;00m\n\u001b[0;32m      3\u001b[0m \u001b[38;5;28;01mfrom\u001b[39;00m \u001b[38;5;21;01mIPython\u001b[39;00m\u001b[38;5;21;01m.\u001b[39;00m\u001b[38;5;21;01mdisplay\u001b[39;00m \u001b[38;5;28;01mimport\u001b[39;00m Markdown, HTML, display, FileLink\n\u001b[1;32m----> 4\u001b[0m \u001b[38;5;28;01mfrom\u001b[39;00m \u001b[38;5;21;01mThaiTextPrepKit\u001b[39;00m \u001b[38;5;28;01mimport\u001b[39;00m polars_pretextkit \u001b[38;5;28;01mas\u001b[39;00m preprocess, typo_patterns \u001b[38;5;28;01mas\u001b[39;00m TYPO\n\u001b[0;32m      5\u001b[0m \u001b[38;5;28;01mimport\u001b[39;00m \u001b[38;5;21;01mpolars\u001b[39;00m \u001b[38;5;28;01mas\u001b[39;00m \u001b[38;5;21;01mpl\u001b[39;00m\n\u001b[0;32m      6\u001b[0m \u001b[38;5;28;01mimport\u001b[39;00m \u001b[38;5;21;01mpythainlp\u001b[39;00m\n",
      "File \u001b[1;32mc:\\Users\\patom\\OneDrive\\Documents\\Repo\\DataPrepKit\\ThaiTextPrepKit\\polars_pretextkit.py:6\u001b[0m\n\u001b[0;32m      4\u001b[0m \u001b[38;5;28;01mimport\u001b[39;00m \u001b[38;5;21;01mnumpy\u001b[39;00m \u001b[38;5;28;01mas\u001b[39;00m \u001b[38;5;21;01mnp\u001b[39;00m\n\u001b[0;32m      5\u001b[0m \u001b[38;5;28;01mimport\u001b[39;00m \u001b[38;5;21;01mre\u001b[39;00m\n\u001b[1;32m----> 6\u001b[0m \u001b[38;5;28;01mimport\u001b[39;00m \u001b[38;5;21;01mpythainlp\u001b[39;00m\n\u001b[0;32m      7\u001b[0m \u001b[38;5;28;01mfrom\u001b[39;00m \u001b[38;5;21;01mpythainlp\u001b[39;00m\u001b[38;5;21;01m.\u001b[39;00m\u001b[38;5;21;01mutil\u001b[39;00m \u001b[38;5;28;01mimport\u001b[39;00m normalize\n\u001b[0;32m      8\u001b[0m \u001b[38;5;28;01mfrom\u001b[39;00m \u001b[38;5;21;01mpythainlp\u001b[39;00m\u001b[38;5;21;01m.\u001b[39;00m\u001b[38;5;21;01mcorpus\u001b[39;00m\u001b[38;5;21;01m.\u001b[39;00m\u001b[38;5;21;01mcommon\u001b[39;00m \u001b[38;5;28;01mimport\u001b[39;00m thai_stopwords, thai_words\n",
      "File \u001b[1;32mc:\\Users\\patom\\OneDrive\\Documents\\Repo\\DataPrepKit\\.venv\\Lib\\site-packages\\pythainlp\\__init__.py:57\u001b[0m\n\u001b[0;32m     51\u001b[0m \u001b[38;5;66;03m# All Thai characters that presented in Unicode\u001b[39;00m\n\u001b[0;32m     52\u001b[0m thai_characters \u001b[38;5;241m=\u001b[39m \u001b[38;5;124m\"\u001b[39m\u001b[38;5;124m\"\u001b[39m\u001b[38;5;241m.\u001b[39mjoin(\n\u001b[0;32m     53\u001b[0m     [thai_letters, thai_punctuations, thai_digits, thai_symbols]\n\u001b[0;32m     54\u001b[0m )\n\u001b[1;32m---> 57\u001b[0m \u001b[38;5;28;01mfrom\u001b[39;00m \u001b[38;5;21;01mpythainlp\u001b[39;00m\u001b[38;5;21;01m.\u001b[39;00m\u001b[38;5;21;01msoundex\u001b[39;00m \u001b[38;5;28;01mimport\u001b[39;00m soundex\n\u001b[0;32m     58\u001b[0m \u001b[38;5;28;01mfrom\u001b[39;00m \u001b[38;5;21;01mpythainlp\u001b[39;00m\u001b[38;5;21;01m.\u001b[39;00m\u001b[38;5;21;01mspell\u001b[39;00m \u001b[38;5;28;01mimport\u001b[39;00m correct, spell\n\u001b[0;32m     59\u001b[0m \u001b[38;5;28;01mfrom\u001b[39;00m \u001b[38;5;21;01mpythainlp\u001b[39;00m\u001b[38;5;21;01m.\u001b[39;00m\u001b[38;5;21;01mtag\u001b[39;00m \u001b[38;5;28;01mimport\u001b[39;00m pos_tag\n",
      "File \u001b[1;32mc:\\Users\\patom\\OneDrive\\Documents\\Repo\\DataPrepKit\\.venv\\Lib\\site-packages\\pythainlp\\soundex\\__init__.py:29\u001b[0m\n\u001b[0;32m     15\u001b[0m \u001b[38;5;124;03m\"\"\"\u001b[39;00m\n\u001b[0;32m     16\u001b[0m \u001b[38;5;124;03mThai soundex\u001b[39;00m\n\u001b[0;32m     17\u001b[0m \n\u001b[0;32m     18\u001b[0m \u001b[38;5;124;03mHas three systems to choose from: Udom83 (default), LK82, and MetaSound\u001b[39;00m\n\u001b[0;32m     19\u001b[0m \u001b[38;5;124;03m\"\"\"\u001b[39;00m\n\u001b[0;32m     21\u001b[0m __all__ \u001b[38;5;241m=\u001b[39m [\n\u001b[0;32m     22\u001b[0m     \u001b[38;5;124m\"\u001b[39m\u001b[38;5;124msoundex\u001b[39m\u001b[38;5;124m\"\u001b[39m,\n\u001b[0;32m     23\u001b[0m     \u001b[38;5;124m\"\u001b[39m\u001b[38;5;124mlk82\u001b[39m\u001b[38;5;124m\"\u001b[39m,\n\u001b[1;32m   (...)\u001b[0m\n\u001b[0;32m     26\u001b[0m     \u001b[38;5;124m\"\u001b[39m\u001b[38;5;124mprayut_and_somchaip\u001b[39m\u001b[38;5;124m\"\u001b[39m,\n\u001b[0;32m     27\u001b[0m ]\n\u001b[1;32m---> 29\u001b[0m \u001b[38;5;28;01mfrom\u001b[39;00m \u001b[38;5;21;01mpythainlp\u001b[39;00m\u001b[38;5;21;01m.\u001b[39;00m\u001b[38;5;21;01msoundex\u001b[39;00m\u001b[38;5;21;01m.\u001b[39;00m\u001b[38;5;21;01mlk82\u001b[39;00m \u001b[38;5;28;01mimport\u001b[39;00m lk82\n\u001b[0;32m     30\u001b[0m \u001b[38;5;28;01mfrom\u001b[39;00m \u001b[38;5;21;01mpythainlp\u001b[39;00m\u001b[38;5;21;01m.\u001b[39;00m\u001b[38;5;21;01msoundex\u001b[39;00m\u001b[38;5;21;01m.\u001b[39;00m\u001b[38;5;21;01mmetasound\u001b[39;00m \u001b[38;5;28;01mimport\u001b[39;00m metasound\n\u001b[0;32m     31\u001b[0m \u001b[38;5;28;01mfrom\u001b[39;00m \u001b[38;5;21;01mpythainlp\u001b[39;00m\u001b[38;5;21;01m.\u001b[39;00m\u001b[38;5;21;01msoundex\u001b[39;00m\u001b[38;5;21;01m.\u001b[39;00m\u001b[38;5;21;01mudom83\u001b[39;00m \u001b[38;5;28;01mimport\u001b[39;00m udom83\n",
      "File \u001b[1;32mc:\\Users\\patom\\OneDrive\\Documents\\Repo\\DataPrepKit\\.venv\\Lib\\site-packages\\pythainlp\\soundex\\lk82.py:23\u001b[0m\n\u001b[0;32m     15\u001b[0m \u001b[38;5;124;03m\"\"\"\u001b[39;00m\n\u001b[0;32m     16\u001b[0m \u001b[38;5;124;03mThai soundex - LK82 system\u001b[39;00m\n\u001b[0;32m     17\u001b[0m \n\u001b[0;32m     18\u001b[0m \u001b[38;5;124;03mPython implementation: Korakot Chaovavanich\u001b[39;00m\n\u001b[0;32m     19\u001b[0m \u001b[38;5;124;03mhttps://gist.github.com/korakot/0b772e09340cac2f493868da035597e8\u001b[39;00m\n\u001b[0;32m     20\u001b[0m \u001b[38;5;124;03m\"\"\"\u001b[39;00m\n\u001b[0;32m     21\u001b[0m \u001b[38;5;28;01mimport\u001b[39;00m \u001b[38;5;21;01mre\u001b[39;00m\n\u001b[1;32m---> 23\u001b[0m \u001b[38;5;28;01mfrom\u001b[39;00m \u001b[38;5;21;01mpythainlp\u001b[39;00m\u001b[38;5;21;01m.\u001b[39;00m\u001b[38;5;21;01mutil\u001b[39;00m \u001b[38;5;28;01mimport\u001b[39;00m remove_tonemark\n\u001b[0;32m     25\u001b[0m _TRANS1 \u001b[38;5;241m=\u001b[39m \u001b[38;5;28mstr\u001b[39m\u001b[38;5;241m.\u001b[39mmaketrans(\n\u001b[0;32m     26\u001b[0m     \u001b[38;5;124m\"\u001b[39m\u001b[38;5;124mกขฃคฅฆงจฉชฌซศษสญยฎดฏตณนฐฑฒถทธบปผพภฝฟมรลฬฤฦวหฮอ\u001b[39m\u001b[38;5;124m\"\u001b[39m,\n\u001b[0;32m     27\u001b[0m     \u001b[38;5;124m\"\u001b[39m\u001b[38;5;124mกกกกกกงจชชชซซซซยยดดตตนนททททททบปพพพฟฟมรรรรรวหหอ\u001b[39m\u001b[38;5;124m\"\u001b[39m,\n\u001b[0;32m     28\u001b[0m )\n\u001b[0;32m     29\u001b[0m _TRANS2 \u001b[38;5;241m=\u001b[39m \u001b[38;5;28mstr\u001b[39m\u001b[38;5;241m.\u001b[39mmaketrans(\n\u001b[0;32m     30\u001b[0m     \u001b[38;5;124m\"\u001b[39m\u001b[38;5;124mกขฃคฅฆงจฉชซฌฎฏฐฑฒดตถทธศษสญณนรลฬฤฦบปพฟภผฝมำยวไใหฮาๅึืเแโุูอ\u001b[39m\u001b[38;5;124m\"\u001b[39m,\n\u001b[0;32m     31\u001b[0m     \u001b[38;5;124m\"\u001b[39m\u001b[38;5;124m1111112333333333333333333444444445555555667777889AAABCDEEF\u001b[39m\u001b[38;5;124m\"\u001b[39m,\n\u001b[0;32m     32\u001b[0m )\n",
      "File \u001b[1;32mc:\\Users\\patom\\OneDrive\\Documents\\Repo\\DataPrepKit\\.venv\\Lib\\site-packages\\pythainlp\\util\\__init__.py:114\u001b[0m\n\u001b[0;32m    105\u001b[0m \u001b[38;5;28;01mfrom\u001b[39;00m \u001b[38;5;21;01mpythainlp\u001b[39;00m\u001b[38;5;21;01m.\u001b[39;00m\u001b[38;5;21;01mutil\u001b[39;00m\u001b[38;5;21;01m.\u001b[39;00m\u001b[38;5;21;01mthai\u001b[39;00m \u001b[38;5;28;01mimport\u001b[39;00m (\n\u001b[0;32m    106\u001b[0m     countthai,\n\u001b[0;32m    107\u001b[0m     count_thai_chars,\n\u001b[1;32m   (...)\u001b[0m\n\u001b[0;32m    111\u001b[0m     thai_word_tone_detector,\n\u001b[0;32m    112\u001b[0m )\n\u001b[0;32m    113\u001b[0m \u001b[38;5;28;01mfrom\u001b[39;00m \u001b[38;5;21;01mpythainlp\u001b[39;00m\u001b[38;5;21;01m.\u001b[39;00m\u001b[38;5;21;01mutil\u001b[39;00m\u001b[38;5;21;01m.\u001b[39;00m\u001b[38;5;21;01mthaiwordcheck\u001b[39;00m \u001b[38;5;28;01mimport\u001b[39;00m is_native_thai\n\u001b[1;32m--> 114\u001b[0m \u001b[38;5;28;01mfrom\u001b[39;00m \u001b[38;5;21;01mpythainlp\u001b[39;00m\u001b[38;5;21;01m.\u001b[39;00m\u001b[38;5;21;01mutil\u001b[39;00m\u001b[38;5;21;01m.\u001b[39;00m\u001b[38;5;21;01mtime\u001b[39;00m \u001b[38;5;28;01mimport\u001b[39;00m thaiword_to_time, time_to_thaiword\n\u001b[0;32m    115\u001b[0m \u001b[38;5;28;01mfrom\u001b[39;00m \u001b[38;5;21;01mpythainlp\u001b[39;00m\u001b[38;5;21;01m.\u001b[39;00m\u001b[38;5;21;01mutil\u001b[39;00m\u001b[38;5;21;01m.\u001b[39;00m\u001b[38;5;21;01mtrie\u001b[39;00m \u001b[38;5;28;01mimport\u001b[39;00m Trie, dict_trie\n\u001b[0;32m    116\u001b[0m \u001b[38;5;28;01mfrom\u001b[39;00m \u001b[38;5;21;01mpythainlp\u001b[39;00m\u001b[38;5;21;01m.\u001b[39;00m\u001b[38;5;21;01mutil\u001b[39;00m\u001b[38;5;21;01m.\u001b[39;00m\u001b[38;5;21;01mwordtonum\u001b[39;00m \u001b[38;5;28;01mimport\u001b[39;00m thaiword_to_num, text_to_num, words_to_num\n",
      "File \u001b[1;32mc:\\Users\\patom\\OneDrive\\Documents\\Repo\\DataPrepKit\\.venv\\Lib\\site-packages\\pythainlp\\util\\time.py:25\u001b[0m\n\u001b[0;32m     23\u001b[0m \u001b[38;5;28;01mfrom\u001b[39;00m \u001b[38;5;21;01mpythainlp\u001b[39;00m\u001b[38;5;21;01m.\u001b[39;00m\u001b[38;5;21;01mtokenize\u001b[39;00m \u001b[38;5;28;01mimport\u001b[39;00m Tokenizer\n\u001b[0;32m     24\u001b[0m \u001b[38;5;28;01mfrom\u001b[39;00m \u001b[38;5;21;01mpythainlp\u001b[39;00m\u001b[38;5;21;01m.\u001b[39;00m\u001b[38;5;21;01mutil\u001b[39;00m\u001b[38;5;21;01m.\u001b[39;00m\u001b[38;5;21;01mnumtoword\u001b[39;00m \u001b[38;5;28;01mimport\u001b[39;00m num_to_thaiword\n\u001b[1;32m---> 25\u001b[0m \u001b[38;5;28;01mfrom\u001b[39;00m \u001b[38;5;21;01mpythainlp\u001b[39;00m\u001b[38;5;21;01m.\u001b[39;00m\u001b[38;5;21;01mutil\u001b[39;00m\u001b[38;5;21;01m.\u001b[39;00m\u001b[38;5;21;01mwordtonum\u001b[39;00m \u001b[38;5;28;01mimport\u001b[39;00m thaiword_to_num\n\u001b[0;32m     27\u001b[0m _TIME_FORMAT_WITH_SEC \u001b[38;5;241m=\u001b[39m \u001b[38;5;124m\"\u001b[39m\u001b[38;5;124m%\u001b[39m\u001b[38;5;124mH:\u001b[39m\u001b[38;5;124m%\u001b[39m\u001b[38;5;124mM:\u001b[39m\u001b[38;5;124m%\u001b[39m\u001b[38;5;124mS\u001b[39m\u001b[38;5;124m\"\u001b[39m\n\u001b[0;32m     28\u001b[0m _TIME_FORMAT_WITHOUT_SEC \u001b[38;5;241m=\u001b[39m \u001b[38;5;124m\"\u001b[39m\u001b[38;5;124m%\u001b[39m\u001b[38;5;124mH:\u001b[39m\u001b[38;5;124m%\u001b[39m\u001b[38;5;124mM\u001b[39m\u001b[38;5;124m\"\u001b[39m\n",
      "File \u001b[1;32mc:\\Users\\patom\\OneDrive\\Documents\\Repo\\DataPrepKit\\.venv\\Lib\\site-packages\\pythainlp\\util\\wordtonum.py:73\u001b[0m\n\u001b[0;32m     69\u001b[0m             \u001b[38;5;28;01mreturn\u001b[39;00m (\u001b[38;5;28;01mTrue\u001b[39;00m, \u001b[38;5;124m\"\u001b[39m\u001b[38;5;124munit\u001b[39m\u001b[38;5;124m\"\u001b[39m)\n\u001b[0;32m     70\u001b[0m     \u001b[38;5;28;01mreturn\u001b[39;00m (\u001b[38;5;28;01mFalse\u001b[39;00m, \u001b[38;5;28;01mNone\u001b[39;00m)\n\u001b[1;32m---> 73\u001b[0m _dict_words \u001b[38;5;241m=\u001b[39m \u001b[43m[\u001b[49m\u001b[43mi\u001b[49m\u001b[43m \u001b[49m\u001b[38;5;28;43;01mfor\u001b[39;49;00m\u001b[43m \u001b[49m\u001b[43mi\u001b[49m\u001b[43m \u001b[49m\u001b[38;5;129;43;01min\u001b[39;49;00m\u001b[43m \u001b[49m\u001b[38;5;28;43mlist\u001b[39;49m\u001b[43m(\u001b[49m\u001b[43mthai_words\u001b[49m\u001b[43m(\u001b[49m\u001b[43m)\u001b[49m\u001b[43m)\u001b[49m\u001b[43m \u001b[49m\u001b[38;5;28;43;01mif\u001b[39;49;00m\u001b[43m \u001b[49m\u001b[38;5;129;43;01mnot\u001b[39;49;00m\u001b[43m \u001b[49m\u001b[43m_check_is_thainum\u001b[49m\u001b[43m(\u001b[49m\u001b[43mi\u001b[49m\u001b[43m)\u001b[49m\u001b[43m[\u001b[49m\u001b[38;5;241;43m0\u001b[39;49m\u001b[43m]\u001b[49m\u001b[43m]\u001b[49m\n\u001b[0;32m     74\u001b[0m _dict_words \u001b[38;5;241m+\u001b[39m\u001b[38;5;241m=\u001b[39m \u001b[38;5;28mlist\u001b[39m(_digits\u001b[38;5;241m.\u001b[39mkeys())\n\u001b[0;32m     75\u001b[0m _dict_words \u001b[38;5;241m+\u001b[39m\u001b[38;5;241m=\u001b[39m [\u001b[38;5;124m\"\u001b[39m\u001b[38;5;124mสิบ\u001b[39m\u001b[38;5;124m\"\u001b[39m, \u001b[38;5;124m\"\u001b[39m\u001b[38;5;124mร้อย\u001b[39m\u001b[38;5;124m\"\u001b[39m, \u001b[38;5;124m\"\u001b[39m\u001b[38;5;124mพัน\u001b[39m\u001b[38;5;124m\"\u001b[39m, \u001b[38;5;124m\"\u001b[39m\u001b[38;5;124mหมื่น\u001b[39m\u001b[38;5;124m\"\u001b[39m, \u001b[38;5;124m\"\u001b[39m\u001b[38;5;124mแสน\u001b[39m\u001b[38;5;124m\"\u001b[39m, \u001b[38;5;124m\"\u001b[39m\u001b[38;5;124mล้าน\u001b[39m\u001b[38;5;124m\"\u001b[39m, \u001b[38;5;124m\"\u001b[39m\u001b[38;5;124mจุด\u001b[39m\u001b[38;5;124m\"\u001b[39m]\n",
      "File \u001b[1;32mc:\\Users\\patom\\OneDrive\\Documents\\Repo\\DataPrepKit\\.venv\\Lib\\site-packages\\pythainlp\\util\\wordtonum.py:73\u001b[0m, in \u001b[0;36m<listcomp>\u001b[1;34m(.0)\u001b[0m\n\u001b[0;32m     69\u001b[0m             \u001b[38;5;28;01mreturn\u001b[39;00m (\u001b[38;5;28;01mTrue\u001b[39;00m, \u001b[38;5;124m\"\u001b[39m\u001b[38;5;124munit\u001b[39m\u001b[38;5;124m\"\u001b[39m)\n\u001b[0;32m     70\u001b[0m     \u001b[38;5;28;01mreturn\u001b[39;00m (\u001b[38;5;28;01mFalse\u001b[39;00m, \u001b[38;5;28;01mNone\u001b[39;00m)\n\u001b[1;32m---> 73\u001b[0m _dict_words \u001b[38;5;241m=\u001b[39m [i \u001b[38;5;28;01mfor\u001b[39;00m i \u001b[38;5;129;01min\u001b[39;00m \u001b[38;5;28mlist\u001b[39m(thai_words()) \u001b[38;5;28;01mif\u001b[39;00m \u001b[38;5;129;01mnot\u001b[39;00m \u001b[43m_check_is_thainum\u001b[49m\u001b[43m(\u001b[49m\u001b[43mi\u001b[49m\u001b[43m)\u001b[49m[\u001b[38;5;241m0\u001b[39m]]\n\u001b[0;32m     74\u001b[0m _dict_words \u001b[38;5;241m+\u001b[39m\u001b[38;5;241m=\u001b[39m \u001b[38;5;28mlist\u001b[39m(_digits\u001b[38;5;241m.\u001b[39mkeys())\n\u001b[0;32m     75\u001b[0m _dict_words \u001b[38;5;241m+\u001b[39m\u001b[38;5;241m=\u001b[39m [\u001b[38;5;124m\"\u001b[39m\u001b[38;5;124mสิบ\u001b[39m\u001b[38;5;124m\"\u001b[39m, \u001b[38;5;124m\"\u001b[39m\u001b[38;5;124mร้อย\u001b[39m\u001b[38;5;124m\"\u001b[39m, \u001b[38;5;124m\"\u001b[39m\u001b[38;5;124mพัน\u001b[39m\u001b[38;5;124m\"\u001b[39m, \u001b[38;5;124m\"\u001b[39m\u001b[38;5;124mหมื่น\u001b[39m\u001b[38;5;124m\"\u001b[39m, \u001b[38;5;124m\"\u001b[39m\u001b[38;5;124mแสน\u001b[39m\u001b[38;5;124m\"\u001b[39m, \u001b[38;5;124m\"\u001b[39m\u001b[38;5;124mล้าน\u001b[39m\u001b[38;5;124m\"\u001b[39m, \u001b[38;5;124m\"\u001b[39m\u001b[38;5;124mจุด\u001b[39m\u001b[38;5;124m\"\u001b[39m]\n",
      "File \u001b[1;32mc:\\Users\\patom\\OneDrive\\Documents\\Repo\\DataPrepKit\\.venv\\Lib\\site-packages\\pythainlp\\util\\wordtonum.py:68\u001b[0m, in \u001b[0;36m_check_is_thainum\u001b[1;34m(word)\u001b[0m\n\u001b[0;32m     66\u001b[0m         \u001b[38;5;28;01mreturn\u001b[39;00m (\u001b[38;5;28;01mTrue\u001b[39;00m, \u001b[38;5;124m\"\u001b[39m\u001b[38;5;124mnum\u001b[39m\u001b[38;5;124m\"\u001b[39m)\n\u001b[0;32m     67\u001b[0m \u001b[38;5;28;01mfor\u001b[39;00m j \u001b[38;5;129;01min\u001b[39;00m [\u001b[38;5;124m\"\u001b[39m\u001b[38;5;124mสิบ\u001b[39m\u001b[38;5;124m\"\u001b[39m, \u001b[38;5;124m\"\u001b[39m\u001b[38;5;124mร้อย\u001b[39m\u001b[38;5;124m\"\u001b[39m, \u001b[38;5;124m\"\u001b[39m\u001b[38;5;124mพัน\u001b[39m\u001b[38;5;124m\"\u001b[39m, \u001b[38;5;124m\"\u001b[39m\u001b[38;5;124mหมื่น\u001b[39m\u001b[38;5;124m\"\u001b[39m, \u001b[38;5;124m\"\u001b[39m\u001b[38;5;124mแสน\u001b[39m\u001b[38;5;124m\"\u001b[39m, \u001b[38;5;124m\"\u001b[39m\u001b[38;5;124mล้าน\u001b[39m\u001b[38;5;124m\"\u001b[39m, \u001b[38;5;124m\"\u001b[39m\u001b[38;5;124mจุด\u001b[39m\u001b[38;5;124m\"\u001b[39m, \u001b[38;5;124m\"\u001b[39m\u001b[38;5;124mลบ\u001b[39m\u001b[38;5;124m\"\u001b[39m]:\n\u001b[1;32m---> 68\u001b[0m     \u001b[38;5;28;01mif\u001b[39;00m j \u001b[38;5;129;01min\u001b[39;00m word:\n\u001b[0;32m     69\u001b[0m         \u001b[38;5;28;01mreturn\u001b[39;00m (\u001b[38;5;28;01mTrue\u001b[39;00m, \u001b[38;5;124m\"\u001b[39m\u001b[38;5;124munit\u001b[39m\u001b[38;5;124m\"\u001b[39m)\n\u001b[0;32m     70\u001b[0m \u001b[38;5;28;01mreturn\u001b[39;00m (\u001b[38;5;28;01mFalse\u001b[39;00m, \u001b[38;5;28;01mNone\u001b[39;00m)\n",
      "\u001b[1;31mKeyboardInterrupt\u001b[0m: "
     ]
    }
   ],
   "source": [
    "#import pandas as pd\n",
    "import re\n",
    "from IPython.display import Markdown, HTML, display, FileLink\n",
    "from ThaiTextPrepKit import polars_pretextkit as preprocess, typo_patterns as TYPO\n",
    "import polars as pl\n",
    "import pythainlp"
   ]
  },
  {
   "cell_type": "code",
   "execution_count": null,
   "metadata": {},
   "outputs": [],
   "source": [
    "def highlight_patterns(patterns, text, html=True, highlight_color_replace=\"#FFFF00\", highlight_color_match=\"#00FFFF\"):\n",
    "    \"\"\"\n",
    "    Highlights all occurrences of the given regex patterns in the text using HTML <span> tags with background color.\n",
    "\n",
    "    :param patterns: A list of tuples containing regex patterns and their replacements.\n",
    "    :param text: The text to search within.\n",
    "    :param highlight_color_replace: The background color to use for replacements (default is yellow).\n",
    "    :param highlight_color_match: The background color to use for matches without replacement (default is blue).\n",
    "    :return: The text with highlighted matches.\n",
    "    \"\"\"\n",
    "    def add_highlight(match, color):\n",
    "        return f'<span style=\"background-color: {color};\">{match.group(0)}</span>' if html else f'<typo>{match.group(0)}</typo>'\n",
    "    \n",
    "    highlighted_text = text\n",
    "    for pattern, replacement in patterns:\n",
    "        matches = list(re.finditer(pattern, text))\n",
    "        replacement = replacement.lstrip('<IGNORE>').rstrip('</IGNORE>')\n",
    "        if matches:\n",
    "            for match in matches:\n",
    "                if replacement in match.group(0):\n",
    "                    highlighted_text = highlighted_text.replace(match.group(0), add_highlight(match, highlight_color_match))\n",
    "                else:\n",
    "                    highlighted_text = highlighted_text.replace(match.group(0), add_highlight(match, highlight_color_replace))\n",
    "    \n",
    "    return highlighted_text"
   ]
  },
  {
   "cell_type": "code",
   "execution_count": null,
   "metadata": {},
   "outputs": [],
   "source": [
    "patterns = TYPO.patterns"
   ]
  },
  {
   "cell_type": "code",
   "execution_count": null,
   "metadata": {},
   "outputs": [],
   "source": [
    "def get_highlight_texts(patterns, texts: list) -> None:\n",
    "    html_text = []\n",
    "    for text in texts:\n",
    "        html_text.append(highlight_patterns(patterns, text))\n",
    "    return html_text"
   ]
  },
  {
   "cell_type": "code",
   "execution_count": null,
   "metadata": {},
   "outputs": [],
   "source": [
    "text_cols = [\n",
    "    'Text',\n",
    "]"
   ]
  },
  {
   "cell_type": "code",
   "execution_count": null,
   "metadata": {},
   "outputs": [],
   "source": [
    "path = r\"C:\\Users\\patom\\OneDrive\\Documents\\Repo\\DataPrepKit\\Samples\\(QC) Social_4.xlsx\"\n",
    "#path = \"/Users/pa/Documents/GitHub Repository Clone/DataPrepKit/Samples/NPS Reason HY'24-textprocessing test1.xlsx\"\n",
    "\n",
    "df = pl.read_excel(path,\n",
    "                   engine='calamine')\n",
    "\n",
    "concat_df = df.with_columns(\n",
    "    pl.concat_list(text_cols).alias('text')\n",
    ")"
   ]
  },
  {
   "cell_type": "code",
   "execution_count": null,
   "metadata": {},
   "outputs": [],
   "source": [
    "concat_df = concat_df.explode('text')\n",
    "concat_df = concat_df.drop_nulls('text')"
   ]
  },
  {
   "cell_type": "code",
   "execution_count": null,
   "metadata": {},
   "outputs": [
    {
     "data": {
      "text/plain": [
       "(14304, 46)"
      ]
     },
     "execution_count": 8,
     "metadata": {},
     "output_type": "execute_result"
    }
   ],
   "source": [
    "concat_df.shape"
   ]
  },
  {
   "cell_type": "code",
   "execution_count": null,
   "metadata": {},
   "outputs": [],
   "source": [
    "original_texts = concat_df.get_column('text').to_list()"
   ]
  },
  {
   "cell_type": "code",
   "execution_count": null,
   "metadata": {},
   "outputs": [
    {
     "data": {
      "text/markdown": [
       "ที่<span style=\"background-color: #FFFF00;\">แอพ</span>ของ AEON จะมีการให้เรา<span style=\"background-color: #00FFFF;\">เลือก</span>ครับว่าจะจ่ายขั้นต่ำหรือไม่"
      ],
      "text/plain": [
       "<IPython.core.display.Markdown object>"
      ]
     },
     "metadata": {},
     "output_type": "display_data"
    },
    {
     "data": {
      "text/markdown": [
       "สมัคร บัตรเครดิต อิออน ผ่าน<span style=\"background-color: #FFFF00;\"><span style=\"background-color: #FFFF00;\">แอพ</span></span> รับบัตรสาขาได้ไหม สมัคร บัตรเครดิต อิออน ผ่าน<span style=\"background-color: #FFFF00;\"><span style=\"background-color: #FFFF00;\">แอพ</span></span>ขึ้นผ่าน<span style=\"background-color: #00FFFF;\">แล้ว</span> รับบัตรสาขาได้ไหม"
      ],
      "text/plain": [
       "<IPython.core.display.Markdown object>"
      ]
     },
     "metadata": {},
     "output_type": "display_data"
    },
    {
     "data": {
      "text/markdown": [
       "สมัครบัตร Aeon ใน<span style=\"background-color: #FFFF00;\"><span style=\"background-color: #FFFF00;\">แอป</span></span> ขึ้นอนุมัติ<span style=\"background-color: #00FFFF;\"><span style=\"background-color: #00FFFF;\"><span style=\"background-color: #00FFFF;\">แล้ว</span></span></span>จะได้บัตรภายในกี่วันครับ สมบัตรอีอ้อนผ่าน<span style=\"background-color: #FFFF00;\"><span style=\"background-color: #FFFF00;\">แอป</span></span> <span style=\"background-color: #00FFFF;\"><span style=\"background-color: #00FFFF;\"><span style=\"background-color: #00FFFF;\">แล้ว</span></span></span>ขึ้นว่าบัตรอนุมัติ<span style=\"background-color: #00FFFF;\"><span style=\"background-color: #00FFFF;\"><span style=\"background-color: #00FFFF;\">แล้ว</span></span></span> จะได้บัตรหรือเลขบัตรภายในกี่วันครับ"
      ],
      "text/plain": [
       "<IPython.core.display.Markdown object>"
      ]
     },
     "metadata": {},
     "output_type": "display_data"
    },
    {
     "data": {
      "text/markdown": [
       "สมัคร บัตรเครดิต อิออน ผ่าน<span style=\"background-color: #FFFF00;\"><span style=\"background-color: #FFFF00;\">แอพ</span></span> สมัคร บัตรเครดิต อิออน ผ่าน<span style=\"background-color: #FFFF00;\"><span style=\"background-color: #FFFF00;\">แอพ</span></span> <span style=\"background-color: #00FFFF;\"><span style=\"background-color: #00FFFF;\">แล้ว</span></span>บัตรไม่มาสักที มีคนโทรมาบอกว่ามาส่ง<span style=\"background-color: #00FFFF;\"><span style=\"background-color: #00FFFF;\">แล้ว</span></span>แต่ไม่เห้นมี สามารถเช้คได้ที่ไหน"
      ],
      "text/plain": [
       "<IPython.core.display.Markdown object>"
      ]
     },
     "metadata": {},
     "output_type": "display_data"
    },
    {
     "data": {
      "text/markdown": [
       "สมัคร บัตรเครดิต อิออน ผ่าน<span style=\"background-color: #FFFF00;\"><span style=\"background-color: #FFFF00;\">แอพ</span></span> ขอเลข EMS หน่อยครับ 0954902940 สมัคร บัตรเครดิต อิออน ผ่าน<span style=\"background-color: #FFFF00;\"><span style=\"background-color: #FFFF00;\">แอพ</span></span> ขอเลข EMS หน่อยครับ 0954902940"
      ],
      "text/plain": [
       "<IPython.core.display.Markdown object>"
      ]
     },
     "metadata": {},
     "output_type": "display_data"
    }
   ],
   "source": [
    "html_texts = get_highlight_texts(patterns, original_texts)\n",
    "\n",
    "for text in html_texts[:5]:\n",
    "    display(Markdown(text))"
   ]
  },
  {
   "cell_type": "code",
   "execution_count": null,
   "metadata": {},
   "outputs": [],
   "source": [
    "#skip_patterns = [re.compile(rf'(เบอ[ร]*[์]*โท[ร]*[สศ]ั[พบ][ท]*[์]*)|(เบอ[ร์]*โท[ร]*)|(เบอ(?!ะ)[ร]*[์]*)', re.IGNORECASE),]"
   ]
  },
  {
   "cell_type": "code",
   "execution_count": null,
   "metadata": {},
   "outputs": [
    {
     "name": "stdout",
     "output_type": "stream",
     "text": [
      "ที่แอปพลิเคชันของ AEON จะมีการให้เราเลือกครับว่าจะจ่ายขั้นต่ำหรือไม่\n",
      "สมัคร บัตรเครดิต อิออน ผ่านแอปพลิเคชัน รับบัตรสาขาได้ไหม สมัคร บัตรเครดิต อิออน ผ่านแอปพลิเคชันขึ้นผ่านแล้ว รับบัตรสาขาได้ไหม\n",
      "สมัครบัตร Aeon ในแอปพลิเคชัน ขึ้นอนุมัติแล้วจะได้บัตรภายในกี่วันครับ สมบัตรอีอ้อนผ่านแอปพลิเคชัน แล้วขึ้นว่าบัตรอนุมัติแล้ว จะได้บัตรหรือเลขบัตรภายในกี่วันครับ\n",
      "สมัคร บัตรเครดิต อิออน ผ่านแอปพลิเคชัน สมัคร บัตรเครดิต อิออน ผ่านแอปพลิเคชัน แล้วบัตรไม่มาสักที มีคนโทรมาบอกว่ามาส่งแล้วแต่ไม่เห้นมี สามารถเช้คได้ที่ไหน\n",
      "สมัคร บัตรเครดิต อิออน ผ่านแอปพลิเคชัน ขอเลข EMS หน่อยครับ 0954902940 สมัคร บัตรเครดิต อิออน ผ่านแอปพลิเคชัน ขอเลข EMS หน่อยครับ 0954902940\n"
     ]
    }
   ],
   "source": [
    "series = pl.Series(original_texts)\n",
    "pre_series = preprocess.preprocess_text_batches(series=series,\n",
    "                                   custom_dict=None,\n",
    "                                   keep_stopwords=True,\n",
    "                                   keep_format=True,\n",
    "                                   return_token_list=False,\n",
    "                                   lower_case=False,\n",
    "                                   include_pattern='[/()]',\n",
    "                                   skip_patterns=None,\n",
    "                                   patterns=patterns)\n",
    "\n",
    "for t in pre_series[:5]:\n",
    "    print(t)"
   ]
  },
  {
   "cell_type": "code",
   "execution_count": null,
   "metadata": {},
   "outputs": [],
   "source": [
    "def generate_html_table(*args):\n",
    "    \"\"\"\n",
    "    Generate an HTML table with columns for each text list provided, using the given names as headers.\n",
    "\n",
    "    Args:\n",
    "    - *args (tuple): Variable number of tuples, each containing a list of texts and a corresponding name.\n",
    "\n",
    "    Returns:\n",
    "    - html_content (str): String containing the HTML table.\n",
    "    \"\"\"\n",
    "    headers = [name for _, name in args]\n",
    "    \n",
    "    html_content = \"<table border='1'>\\n\"\n",
    "    html_content += \"<tr>\" + \"\".join(f\"<th>{header}</th>\" for header in headers) + \"</tr>\\n\"\n",
    "    \n",
    "    # Find the maximum length among the provided lists to handle uneven lengths\n",
    "    max_length = max(len(text_list) for text_list, _ in args)\n",
    "    \n",
    "    for i in range(max_length):\n",
    "        html_content += \"<tr>\"\n",
    "        for text_list, _ in args:\n",
    "            cell_content = text_list[i] if i < len(text_list) else \"\"\n",
    "            html_content += f\"<td>{cell_content}</td>\"\n",
    "        html_content += \"</tr>\\n\"\n",
    "\n",
    "    html_content += \"</table>\"\n",
    "    \n",
    "    return html_content"
   ]
  },
  {
   "cell_type": "code",
   "execution_count": null,
   "metadata": {},
   "outputs": [],
   "source": [
    "# Generate HTML table\n",
    "html_table = generate_html_table((html_texts, 'raw text'), \n",
    "                                 (get_highlight_texts(patterns, pre_series.to_list()), \"PAREPA\"),\n",
    "                                 #(pn_raw_token_texts, 'pn engine detection'),\n",
    "                                 #(pn_pre_token_texts, 'pn engine correction')\n",
    "                                 )\n",
    "\n",
    "# Display HTML in Jupyter Notebook\n",
    "from IPython.display import HTML, display\n",
    "#display(HTML(html_table))"
   ]
  },
  {
   "cell_type": "code",
   "execution_count": null,
   "metadata": {},
   "outputs": [
    {
     "data": {
      "text/html": [
       "<a href='table_social_pre_text.html' target='_blank'>table_social_pre_text.html</a><br>"
      ],
      "text/plain": [
       "c:\\Users\\patom\\OneDrive\\Documents\\Repo\\DataPrepKit\\table_social_pre_text.html"
      ]
     },
     "execution_count": 16,
     "metadata": {},
     "output_type": "execute_result"
    }
   ],
   "source": [
    "# Create a downloadable link for the HTML content\n",
    "with open('table_social_pre_text.html', 'w', encoding='utf-8') as f:\n",
    "    f.write(html_table)\n",
    "\n",
    "FileLink('table_social_pre_text.html')"
   ]
  }
 ],
 "metadata": {
  "kernelspec": {
   "display_name": ".venv",
   "language": "python",
   "name": "python3"
  },
  "language_info": {
   "codemirror_mode": {
    "name": "ipython",
    "version": 3
   },
   "file_extension": ".py",
   "mimetype": "text/x-python",
   "name": "python",
   "nbconvert_exporter": "python",
   "pygments_lexer": "ipython3",
   "version": "3.11.9"
  }
 },
 "nbformat": 4,
 "nbformat_minor": 2
}

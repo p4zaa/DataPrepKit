{
 "cells": [
  {
   "cell_type": "code",
   "execution_count": 1,
   "metadata": {},
   "outputs": [],
   "source": [
    "from ThaiTextPrepKit import polars_pretextkit as pretextkit\n",
    "from ThaiTextPrepKit import __version__, vowel_typo\n",
    "import re"
   ]
  },
  {
   "cell_type": "code",
   "execution_count": 101,
   "metadata": {},
   "outputs": [],
   "source": [
    "vowel_typo = '่้๊๋็ีัเ'\n",
    "thai_consonants = \"กขฃคฅฆงจฉชซฌญฎฏฐฑฒณดตถทธนบปผฝพฟภมยรลวศษสหฬอฮ\"\n",
    "\n",
    "thai_vowels = \\\n",
    "\"\"\"\n",
    "\\u0e30\\u0e31\\u0e32\\u0e33\\u0e34\\u0e35\\u0e36\\u0e37\\u0e38\\u0e39\\u0e3a\\u0e40\\u0e41\\u0e42\\u0e43\\u0e44\\u0e45\\u0e46\n",
    "\"\"\"\n",
    "\n",
    "thai_lead_vowels = \"\\u0e40\\u0e41\\u0e42\\u0e43\\u0e44\"\n",
    "\n",
    "thai_tonemarks = (\n",
    "\"\"\"\n",
    "\\u0e47\\u0e48\\u0e49\\u0e4a\\u0e4b\\u0e4c\\u0e4d\\u0e4e\n",
    "\"\"\"\n",
    ")\n",
    "\n",
    "thai_complete_end_chars = (\n",
    "# ฯ\n",
    "\"\"\"\n",
    "\\u0e2f\n",
    "\"\"\"\n",
    ")\n",
    "\n",
    "thai_complete_end_vowels = (\n",
    "# ะ ำ ๅ ๆ\n",
    "\"\"\"\n",
    "\\u0e30\\u0e33\\u0e45\\u0e46\n",
    "\"\"\"\n",
    ")\n",
    "\n",
    "thai_vowel_require_spelling_chars = (\n",
    "# ั  ื\n",
    "\"\"\"\n",
    "\\u0e31\\u0e37\n",
    "\"\"\"\n",
    ")"
   ]
  },
  {
   "cell_type": "code",
   "execution_count": 245,
   "metadata": {},
   "outputs": [
    {
     "name": "stdout",
     "output_type": "stream",
     "text": [
      "เครื่องอัตโนมัติ\n",
      "เครื่องอัตโนมัติที่นี่\n",
      "เครื่องอัตโนมัติ\n",
      "เครื่องอัตโนมัติ\n",
      "datmo\n",
      "datm\n",
      "เครื่องอัตโนมัติที่นี่\n"
     ]
    }
   ],
   "source": [
    "texts = ['ตู้ atm',\n",
    "         'ตู้atmที่นี่',\n",
    "         'atm',\n",
    "         'เอทีเอม',\n",
    "         'datmo',\n",
    "         'datm',\n",
    "         'ตู้ atmที่นี่']\n",
    "\n",
    "for x in texts:\n",
    "    x = x.lower().strip()\n",
    "    x = re.sub(f'((?<!\\S)a[td]m(?![A-Za-z])|ตู้[ ]*atm|เอทีเอ[{thai_tonemarks}]*ม)', 'เครื่องอัตโนมัติ', x)\n",
    "    print(x)"
   ]
  },
  {
   "cell_type": "code",
   "execution_count": null,
   "metadata": {},
   "outputs": [],
   "source": []
  }
 ],
 "metadata": {
  "kernelspec": {
   "display_name": ".venv",
   "language": "python",
   "name": "python3"
  },
  "language_info": {
   "codemirror_mode": {
    "name": "ipython",
    "version": 3
   },
   "file_extension": ".py",
   "mimetype": "text/x-python",
   "name": "python",
   "nbconvert_exporter": "python",
   "pygments_lexer": "ipython3",
   "version": "3.9.6"
  }
 },
 "nbformat": 4,
 "nbformat_minor": 2
}

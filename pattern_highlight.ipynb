{
 "cells": [
  {
   "cell_type": "markdown",
   "metadata": {},
   "source": [
    "# NPS Corporate"
   ]
  },
  {
   "cell_type": "code",
   "execution_count": 1,
   "metadata": {},
   "outputs": [],
   "source": [
    "#import pandas as pd\n",
    "import re\n",
    "from IPython.display import Markdown, HTML, display, FileLink\n",
    "from ThaiTextPrepKit import polars_pretextkit as preprocess, typo_patterns as TYPO\n",
    "import polars as pl\n",
    "import pythainlp\n",
    "#import pandas as pd\n",
    "#from openpyxl import Workbook\n",
    "#from openpyxl.utils.dataframe import dataframe_to_rows\n",
    "#from openpyxl.styles import PatternFill\n",
    "#from bs4 import BeautifulSoup"
   ]
  },
  {
   "cell_type": "code",
   "execution_count": 2,
   "metadata": {},
   "outputs": [
    {
     "data": {
      "text/plain": [
       "'def highlight_patterns(patterns, text, highlight_color=\"#FFFF00\"):\\n    \"\"\"\\n    Highlights all occurrences of the given regex patterns in the text using HTML <span> tags with background color.\\n\\n    :param patterns: A list of tuples containing regex patterns and their replacements.\\n    :param text: The text to search within.\\n    :param highlight_color: The background color to use for highlighting (default is yellow).\\n    :return: The text with highlighted matches.\\n    \"\"\"\\n    def add_highlight(match):\\n        return f\\'<span style=\"background-color: {highlight_color};\">{match.group(0)}</span>\\'\\n    \\n    highlighted_text = text\\n    for pattern, replacement in patterns:\\n        highlighted_text = re.sub(pattern, add_highlight, highlighted_text)\\n    \\n    return highlighted_text'"
      ]
     },
     "execution_count": 2,
     "metadata": {},
     "output_type": "execute_result"
    }
   ],
   "source": [
    "'''def highlight_patterns(patterns, text, highlight_color=\"#FFFF00\"):\n",
    "    \"\"\"\n",
    "    Highlights all occurrences of the given regex patterns in the text using HTML <span> tags with background color.\n",
    "\n",
    "    :param patterns: A list of tuples containing regex patterns and their replacements.\n",
    "    :param text: The text to search within.\n",
    "    :param highlight_color: The background color to use for highlighting (default is yellow).\n",
    "    :return: The text with highlighted matches.\n",
    "    \"\"\"\n",
    "    def add_highlight(match):\n",
    "        return f'<span style=\"background-color: {highlight_color};\">{match.group(0)}</span>'\n",
    "    \n",
    "    highlighted_text = text\n",
    "    for pattern, replacement in patterns:\n",
    "        highlighted_text = re.sub(pattern, add_highlight, highlighted_text)\n",
    "    \n",
    "    return highlighted_text'''"
   ]
  },
  {
   "cell_type": "code",
   "execution_count": 3,
   "metadata": {},
   "outputs": [],
   "source": [
    "def highlight_patterns(patterns, text, html=True, highlight_color_replace=\"#FFFF00\", highlight_color_match=\"#00FFFF\"):\n",
    "    \"\"\"\n",
    "    Highlights all occurrences of the given regex patterns in the text using HTML <span> tags with background color.\n",
    "\n",
    "    :param patterns: A list of tuples containing regex patterns and their replacements.\n",
    "    :param text: The text to search within.\n",
    "    :param highlight_color_replace: The background color to use for replacements (default is yellow).\n",
    "    :param highlight_color_match: The background color to use for matches without replacement (default is blue).\n",
    "    :return: The text with highlighted matches.\n",
    "    \"\"\"\n",
    "    def add_highlight(match, color):\n",
    "        return f'<span style=\"background-color: {color};\">{match.group(0)}</span>' if html else f'<typo>{match.group(0)}</typo>'\n",
    "    \n",
    "    highlighted_text = text\n",
    "    for pattern, replacement in patterns:\n",
    "        matches = list(re.finditer(pattern, text))\n",
    "        replacement = replacement.lstrip('<IGNORE>').rstrip('</IGNORE>')\n",
    "        print(replacement)\n",
    "        if matches:\n",
    "            for match in matches:\n",
    "                if replacement in match.group(0):\n",
    "                    highlighted_text = highlighted_text.replace(match.group(0), add_highlight(match, highlight_color_match))\n",
    "                else:\n",
    "                    highlighted_text = highlighted_text.replace(match.group(0), add_highlight(match, highlight_color_replace))\n",
    "    \n",
    "    return highlighted_text"
   ]
  },
  {
   "cell_type": "code",
   "execution_count": 4,
   "metadata": {},
   "outputs": [],
   "source": [
    "patterns = TYPO.corp_patterns"
   ]
  },
  {
   "cell_type": "code",
   "execution_count": 25,
   "metadata": {},
   "outputs": [],
   "source": [
    "text = \"I love using แอ๊บ and แอปพลิเคชัน application on my apple device.\"\n",
    "\n",
    "highlighted_text = highlight_patterns(patterns, text, html=False)"
   ]
  },
  {
   "cell_type": "code",
   "execution_count": 6,
   "metadata": {},
   "outputs": [
    {
     "data": {
      "text/plain": [
       "'I love using <typo>แอ๊บ</typo> and <typo>แอปพลิเคชัน</typo> <typo>application</typo> on my <typo>apple</typo> device<typo>.</typo>'"
      ]
     },
     "execution_count": 6,
     "metadata": {},
     "output_type": "execute_result"
    }
   ],
   "source": [
    "highlighted_text"
   ]
  },
  {
   "cell_type": "code",
   "execution_count": 7,
   "metadata": {},
   "outputs": [
    {
     "data": {
      "text/markdown": [
       "I love using <typo>แอ๊บ</typo> and <typo>แอปพลิเคชัน</typo> <typo>application</typo> on my <typo>apple</typo> device<typo>.</typo>"
      ],
      "text/plain": [
       "<IPython.core.display.Markdown object>"
      ]
     },
     "metadata": {},
     "output_type": "display_data"
    }
   ],
   "source": [
    "display(Markdown(highlighted_text))"
   ]
  },
  {
   "cell_type": "code",
   "execution_count": 8,
   "metadata": {},
   "outputs": [
    {
     "data": {
      "text/plain": [
       "'I love using <typo>แอ๊บ</typo> and <typo>แอปพลิเคชัน</typo> <typo>application</typo> on my <typo>apple</typo> device<typo>.</typo>'"
      ]
     },
     "execution_count": 8,
     "metadata": {},
     "output_type": "execute_result"
    }
   ],
   "source": [
    "highlighted_text"
   ]
  },
  {
   "cell_type": "code",
   "execution_count": 9,
   "metadata": {},
   "outputs": [],
   "source": [
    "def get_highlight_texts(patterns, texts: list) -> None:\n",
    "    html_text = []\n",
    "    for text in texts:\n",
    "        html_text.append(highlight_patterns(patterns, text))\n",
    "    return html_text"
   ]
  },
  {
   "cell_type": "code",
   "execution_count": 10,
   "metadata": {},
   "outputs": [],
   "source": [
    "text_cols = [\n",
    "    'Recommend1-Bank1',\n",
    "    'Recommend2-Bank1',\n",
    "    'Recommend3-Bank1',\n",
    "    'NotRecommend1-Bank1',\n",
    "    'NotRecommend2-Bank1',\n",
    "    'NotRecommend3-Bank1',\n",
    "    'Recommend1-Bank2',\n",
    "    'Recommend2-Bank2',\n",
    "    'Recommend3-Bank2',\n",
    "    'NotRecommend1-Bank2',\n",
    "    'NotRecommend2-Bank2',\n",
    "    'NotRecommend3-Bank2',\n",
    "    'Recommend1-Bank3',\n",
    "    'Recommend2-Bank3',\n",
    "    'Recommend3-Bank3',\n",
    "    'NotRecommend1-Bank3',\n",
    "    'NotRecommend2-Bank3',\n",
    "    'NotRecommend3-Bank3',\n",
    "]"
   ]
  },
  {
   "cell_type": "code",
   "execution_count": 11,
   "metadata": {},
   "outputs": [],
   "source": [
    "path = r\"C:\\Users\\patom\\OneDrive\\Documents\\Repo\\DataPrepKit\\Samples\\NPS Reason HY'24-textprocessing test1.xlsx\"\n",
    "#path = \"/Users/pa/Documents/GitHub Repository Clone/DataPrepKit/Samples/NPS Reason HY'24-textprocessing test1.xlsx\"\n",
    "\n",
    "df = pl.read_excel(path,\n",
    "                   engine='calamine')\n",
    "\n",
    "concat_df = df.with_columns(\n",
    "    pl.concat_list(text_cols).alias('text')\n",
    ")"
   ]
  },
  {
   "cell_type": "code",
   "execution_count": 12,
   "metadata": {},
   "outputs": [],
   "source": [
    "concat_df = concat_df.explode('text')\n",
    "concat_df = concat_df.drop_nulls('text')"
   ]
  },
  {
   "cell_type": "code",
   "execution_count": 13,
   "metadata": {},
   "outputs": [],
   "source": [
    "original_texts = concat_df.get_column('text').to_list()"
   ]
  },
  {
   "cell_type": "code",
   "execution_count": 14,
   "metadata": {},
   "outputs": [
    {
     "data": {
      "text/markdown": [
       "<span style=\"background-color: #00FFFF;\">พนักงาน</span>ฝ่าย <span style=\"background-color: #FFFF00;\">Call Center</span> ให้คำปรึกษาได้ตลอด"
      ],
      "text/plain": [
       "<IPython.core.display.Markdown object>"
      ]
     },
     "metadata": {},
     "output_type": "display_data"
    },
    {
     "data": {
      "text/markdown": [
       "<span style=\"background-color: #00FFFF;\">พนักงาน</span> <span style=\"background-color: #FFFF00;\">Call Center</span> ให้ความรู้ ให้ข้อมูลถูกต้อง"
      ],
      "text/plain": [
       "<IPython.core.display.Markdown object>"
      ]
     },
     "metadata": {},
     "output_type": "display_data"
    },
    {
     "data": {
      "text/markdown": [
       "<span style=\"background-color: #00FFFF;\">พนักงาน</span> <span style=\"background-color: #FFFF00;\">Call Center</span> ใส่ใจและติดตามงานให้ดี"
      ],
      "text/plain": [
       "<IPython.core.display.Markdown object>"
      ]
     },
     "metadata": {},
     "output_type": "display_data"
    },
    {
     "data": {
      "text/markdown": [
       "ระบบ<span style=\"background-color: #00FFFF;\">แบงก์</span>กิ้ง<span style=\"background-color: #00FFFF;\">ใช้งาน</span>ยาก เข้าเมนูกลับไปกลับมา"
      ],
      "text/plain": [
       "<IPython.core.display.Markdown object>"
      ]
     },
     "metadata": {},
     "output_type": "display_data"
    },
    {
     "data": {
      "text/markdown": [
       "ระบบ<span style=\"background-color: #00FFFF;\">แบงก์</span>กิ้งเมื่อ<span style=\"background-color: #00FFFF;\">อัปเดต</span>ระบบใหม่ จะนำมาใช้บนมือถือยาก ตัวหนังสือจะเป็นแนวตั้ง ไม่เป็นแนวนอนเหมือนใช้บนโน๊ตบุ๊ค"
      ],
      "text/plain": [
       "<IPython.core.display.Markdown object>"
      ]
     },
     "metadata": {},
     "output_type": "display_data"
    }
   ],
   "source": [
    "\"\"\"texts = [\n",
    "    'แอปพลิเคชันดี',\n",
    "    'แอพลิเคชั่นดี',\n",
    "    'internet banking ใช้งานง่าย มีคู่มือให้ดูได้จากหน้าเว็บ',\n",
    "    'internet banking',\n",
    "    'net banking',\n",
    "    'อินเตอร์เน็ต',\n",
    "    'อินเตอร์เน็ตแบงค์กิ้ง',\n",
    "    'internet แบงกิ้ง',\n",
    "    'baht net',\n",
    "    'bath net',\n",
    "    'net',\n",
    "    'I love using แอ๊บ and แอปพลิเคชัน application on my apple device.',\n",
    "]\"\"\"\n",
    "html_texts = get_highlight_texts(patterns, original_texts)\n",
    "\n",
    "for text in html_texts[:5]:\n",
    "    display(Markdown(text))"
   ]
  },
  {
   "cell_type": "code",
   "execution_count": 15,
   "metadata": {},
   "outputs": [],
   "source": [
    "import re\n",
    "#skip_patterns = [re.compile(rf'(เบอ[ร]*[์]*โท[ร]*[สศ]ั[พบ][ท]*[์]*)|(เบอ[ร์]*โท[ร]*)|(เบอ(?!ะ)[ร]*[์]*)', re.IGNORECASE),]"
   ]
  },
  {
   "cell_type": "code",
   "execution_count": 16,
   "metadata": {},
   "outputs": [
    {
     "name": "stdout",
     "output_type": "stream",
     "text": [
      "พนักงานฝ่าย คอลเซ็นเตอร์ ให้คำปรึกษาได้ตลอด\n",
      "พนักงาน คอลเซ็นเตอร์ ให้ความรู้ ให้ข้อมูลถูกต้อง\n",
      "พนักงาน คอลเซ็นเตอร์ ใส่ใจและติดตามงานให้ดี\n",
      "ระบบแบงก์กิ้งใช้งานยาก เข้าเมนูกลับไปกลับมา\n",
      "ระบบแบงก์กิ้งเมื่ออัปเดตระบบใหม่ จะนำมาใช้บนมือถือยาก ตัวหนังสือจะเป็นแนวตั้ง ไม่เป็นแนวนอนเหมือนใช้บนโน๊ตบุ๊ค\n"
     ]
    }
   ],
   "source": [
    "series = pl.Series(original_texts)\n",
    "pre_series = preprocess.preprocess_text_batches(series=series,\n",
    "                                   custom_dict=None,\n",
    "                                   keep_stopwords=True,\n",
    "                                   keep_format=True,\n",
    "                                   return_token_list=False,\n",
    "                                   lower_case=False,\n",
    "                                   include_pattern='[/()]',\n",
    "                                   skip_patterns=None,\n",
    "                                   patterns=patterns)\n",
    "\n",
    "for t in pre_series[:5]:\n",
    "    print(t)"
   ]
  },
  {
   "cell_type": "code",
   "execution_count": 17,
   "metadata": {},
   "outputs": [],
   "source": [
    "'''def insert_typo_token_pythainlp_engine(texts_list: list, html: bool=True) -> list:\n",
    "  inserted_token_texts = []\n",
    "  for text in texts_list:\n",
    "    text_tokens = pythainlp.word_tokenize(text, keep_whitespace=True, join_broken_num=True)\n",
    "    corrected_text_tokens = [pythainlp.correct(token, engine='pn') if token != ' ' else token for token in text_tokens]\n",
    "    text_with_typo_token = []\n",
    "    for (original, corrected) in zip(text_tokens, corrected_text_tokens):\n",
    "      if original == corrected:\n",
    "        text_with_typo_token.append(original)\n",
    "      else:\n",
    "        token_str = f'<span style=\"background-color: #FFFF00;\">{original}</span>' if html else f'<typo>{original}</typo>'\n",
    "        text_with_typo_token.append(token_str)\n",
    "    inserted_token_texts.append(''.join(text_with_typo_token))\n",
    "  return inserted_token_texts'''\n",
    "\n",
    "def insert_typo_token_pythainlp_engine(texts_list: list, html: bool=True) -> list:\n",
    "  raw_inserted_token_texts = []\n",
    "  pre_inserted_token_texts = []\n",
    "  for text in texts_list:\n",
    "    text_tokens = pythainlp.word_tokenize(text, keep_whitespace=True, join_broken_num=True)\n",
    "    corrected_text_tokens = [pythainlp.correct(token, engine='pn') if token != ' ' else token for token in text_tokens]\n",
    "    raw_text_with_typo_token = []\n",
    "    pre_text_with_typo_token = []\n",
    "    for (original, corrected) in zip(text_tokens, corrected_text_tokens):\n",
    "      if original == corrected:\n",
    "        raw_text_with_typo_token.append(original)\n",
    "        pre_text_with_typo_token.append(original)\n",
    "      else:\n",
    "        raw_token_str = f'<span style=\"background-color: #FFFF00;\">{original}</span>' if html else f'<typo>{original}</typo>'\n",
    "        pre_token_str = f'<span style=\"background-color: #00FFFF;\">{corrected}</span>' if html else f'<typo>{corrected}</typo>'\n",
    "        raw_text_with_typo_token.append(raw_token_str)\n",
    "        pre_text_with_typo_token.append(pre_token_str)\n",
    "    raw_inserted_token_texts.append(''.join(raw_text_with_typo_token))\n",
    "    pre_inserted_token_texts.append(''.join(pre_text_with_typo_token))\n",
    "  return raw_inserted_token_texts, pre_inserted_token_texts"
   ]
  },
  {
   "cell_type": "code",
   "execution_count": 18,
   "metadata": {},
   "outputs": [
    {
     "data": {
      "text/plain": [
       "'def generate_html_table(original_texts, preprocess_texts):\\n    \"\"\"\\n    Generate an HTML table with \\'original_text\\' and \\'preprocess_text\\' columns.\\n\\n    Args:\\n    - original_texts (list): List of original texts.\\n    - preprocess_texts (list): List of preprocessed texts.\\n\\n    Returns:\\n    - html_content (str): String containing the HTML table.\\n    \"\"\"\\n    html_content = \"<table border=\\'1\\'>\\n\"\\n    html_content += \"<tr><th>original_text</th><th>preprocess_text</th></tr>\\n\"\\n\\n    for original, preprocess in zip(original_texts, preprocess_texts):\\n        html_content += f\"<tr><td>{original}</td><td>{preprocess}</td></tr>\\n\"\\n\\n    html_content += \"</table>\"\\n    \\n    return html_content'"
      ]
     },
     "execution_count": 18,
     "metadata": {},
     "output_type": "execute_result"
    }
   ],
   "source": [
    "\n",
    "\n",
    "'''def generate_html_table(original_texts, preprocess_texts):\n",
    "    \"\"\"\n",
    "    Generate an HTML table with 'original_text' and 'preprocess_text' columns.\n",
    "\n",
    "    Args:\n",
    "    - original_texts (list): List of original texts.\n",
    "    - preprocess_texts (list): List of preprocessed texts.\n",
    "\n",
    "    Returns:\n",
    "    - html_content (str): String containing the HTML table.\n",
    "    \"\"\"\n",
    "    html_content = \"<table border='1'>\\n\"\n",
    "    html_content += \"<tr><th>original_text</th><th>preprocess_text</th></tr>\\n\"\n",
    "\n",
    "    for original, preprocess in zip(original_texts, preprocess_texts):\n",
    "        html_content += f\"<tr><td>{original}</td><td>{preprocess}</td></tr>\\n\"\n",
    "\n",
    "    html_content += \"</table>\"\n",
    "    \n",
    "    return html_content'''\n"
   ]
  },
  {
   "cell_type": "code",
   "execution_count": 19,
   "metadata": {},
   "outputs": [
    {
     "data": {
      "text/plain": [
       "'def generate_html_table(*args):\\n    \"\"\"\\n    Generate an HTML table with columns for each text list provided.\\n\\n    Args:\\n    - *args (list): Variable number of lists, each containing texts.\\n\\n    Returns:\\n    - html_content (str): String containing the HTML table.\\n    \"\"\"\\n    num_columns = len(args)\\n    headers = [f\"text_list_{i+1}\" for i in range(num_columns)]\\n    \\n    html_content = \"<table border=\\'1\\'>\\n\"\\n    html_content += \"<tr>\" + \"\".join(f\"<th>{header}</th>\" for header in headers) + \"</tr>\\n\"\\n    \\n    # Find the maximum length among the provided lists to handle uneven lengths\\n    max_length = max(len(lst) for lst in args)\\n    \\n    for i in range(max_length):\\n        html_content += \"<tr>\"\\n        for lst in args:\\n            cell_content = lst[i] if i < len(lst) else \"\"\\n            html_content += f\"<td>{cell_content}</td>\"\\n        html_content += \"</tr>\\n\"\\n\\n    html_content += \"</table>\"\\n    \\n    return html_content'"
      ]
     },
     "execution_count": 19,
     "metadata": {},
     "output_type": "execute_result"
    }
   ],
   "source": [
    "'''def generate_html_table(*args):\n",
    "    \"\"\"\n",
    "    Generate an HTML table with columns for each text list provided.\n",
    "\n",
    "    Args:\n",
    "    - *args (list): Variable number of lists, each containing texts.\n",
    "\n",
    "    Returns:\n",
    "    - html_content (str): String containing the HTML table.\n",
    "    \"\"\"\n",
    "    num_columns = len(args)\n",
    "    headers = [f\"text_list_{i+1}\" for i in range(num_columns)]\n",
    "    \n",
    "    html_content = \"<table border='1'>\\n\"\n",
    "    html_content += \"<tr>\" + \"\".join(f\"<th>{header}</th>\" for header in headers) + \"</tr>\\n\"\n",
    "    \n",
    "    # Find the maximum length among the provided lists to handle uneven lengths\n",
    "    max_length = max(len(lst) for lst in args)\n",
    "    \n",
    "    for i in range(max_length):\n",
    "        html_content += \"<tr>\"\n",
    "        for lst in args:\n",
    "            cell_content = lst[i] if i < len(lst) else \"\"\n",
    "            html_content += f\"<td>{cell_content}</td>\"\n",
    "        html_content += \"</tr>\\n\"\n",
    "\n",
    "    html_content += \"</table>\"\n",
    "    \n",
    "    return html_content'''\n"
   ]
  },
  {
   "cell_type": "code",
   "execution_count": 20,
   "metadata": {},
   "outputs": [],
   "source": [
    "def generate_html_table(*args):\n",
    "    \"\"\"\n",
    "    Generate an HTML table with columns for each text list provided, using the given names as headers.\n",
    "\n",
    "    Args:\n",
    "    - *args (tuple): Variable number of tuples, each containing a list of texts and a corresponding name.\n",
    "\n",
    "    Returns:\n",
    "    - html_content (str): String containing the HTML table.\n",
    "    \"\"\"\n",
    "    headers = [name for _, name in args]\n",
    "    \n",
    "    html_content = \"<table border='1'>\\n\"\n",
    "    html_content += \"<tr>\" + \"\".join(f\"<th>{header}</th>\" for header in headers) + \"</tr>\\n\"\n",
    "    \n",
    "    # Find the maximum length among the provided lists to handle uneven lengths\n",
    "    max_length = max(len(text_list) for text_list, _ in args)\n",
    "    \n",
    "    for i in range(max_length):\n",
    "        html_content += \"<tr>\"\n",
    "        for text_list, _ in args:\n",
    "            cell_content = text_list[i] if i < len(text_list) else \"\"\n",
    "            html_content += f\"<td>{cell_content}</td>\"\n",
    "        html_content += \"</tr>\\n\"\n",
    "\n",
    "    html_content += \"</table>\"\n",
    "    \n",
    "    return html_content"
   ]
  },
  {
   "cell_type": "code",
   "execution_count": 21,
   "metadata": {},
   "outputs": [],
   "source": [
    "# pythainlp pn model engine\n",
    "#pn_raw_token_texts, pn_pre_token_texts = insert_typo_token_pythainlp_engine(original_texts, html=True)"
   ]
  },
  {
   "cell_type": "code",
   "execution_count": 22,
   "metadata": {},
   "outputs": [],
   "source": [
    "# Example lists (replace with your data)\n",
    "'''original_texts = ['<span style=\"background-color: #00FFFF;\">แอปพลิเคชัน</span>ดี',\n",
    "                  '<span style=\"background-color: #FFFF00;\">แอพลิเคชั่น</span>ดี',\n",
    "                  'internet banking <span style=\"background-color: #00FFFF;\">ใช้งาน</span>ง่าย มีคู่มือให้ดูได้จากหน้าเว็บ',]\n",
    "\n",
    "preprocess_texts = ['แอปพลิเคชันดี',\n",
    "                    'แอปพลิเคชันดี',\n",
    "                    'internet banking ใช้งานง่าย มีคู่มือให้ดูได้จากหน้าเว็บ']'''\n",
    "\n",
    "# Generate HTML table\n",
    "html_table = generate_html_table((html_texts, 'raw text'), \n",
    "                                 (get_highlight_texts(patterns, pre_series.to_list()), \"Pa's regex pattern\"),\n",
    "                                 #(pn_raw_token_texts, 'pn engine detection'),\n",
    "                                 #(pn_pre_token_texts, 'pn engine correction')\n",
    "                                 )\n",
    "\n",
    "# Display HTML in Jupyter Notebook\n",
    "from IPython.display import HTML, display\n",
    "#display(HTML(html_table))"
   ]
  },
  {
   "cell_type": "code",
   "execution_count": 23,
   "metadata": {},
   "outputs": [
    {
     "data": {
      "text/html": [
       "<a href='table3.html' target='_blank'>table3.html</a><br>"
      ],
      "text/plain": [
       "c:\\Users\\patom\\OneDrive\\Documents\\Repo\\DataPrepKit\\table3.html"
      ]
     },
     "execution_count": 23,
     "metadata": {},
     "output_type": "execute_result"
    }
   ],
   "source": [
    "# Create a downloadable link for the HTML content\n",
    "with open('table3.html', 'w', encoding='utf-8') as f:\n",
    "    f.write(html_table)\n",
    "\n",
    "FileLink('table3.html')"
   ]
  },
  {
   "cell_type": "code",
   "execution_count": 24,
   "metadata": {},
   "outputs": [
    {
     "data": {
      "text/plain": [
       "'เบอร์'"
      ]
     },
     "execution_count": 24,
     "metadata": {},
     "output_type": "execute_result"
    }
   ],
   "source": [
    "'<IGNORE>เบอร์</IGNORE>'.lstrip('<IGNORE>').rstrip('</IGNORE>')"
   ]
  }
 ],
 "metadata": {
  "kernelspec": {
   "display_name": ".venv",
   "language": "python",
   "name": "python3"
  },
  "language_info": {
   "codemirror_mode": {
    "name": "ipython",
    "version": 3
   },
   "file_extension": ".py",
   "mimetype": "text/x-python",
   "name": "python",
   "nbconvert_exporter": "python",
   "pygments_lexer": "ipython3",
   "version": "3.9.6"
  }
 },
 "nbformat": 4,
 "nbformat_minor": 2
}

{
 "cells": [
  {
   "cell_type": "code",
   "execution_count": 1,
   "metadata": {},
   "outputs": [],
   "source": [
    "#import pandas as pd\n",
    "import re\n",
    "from IPython.display import Markdown\n",
    "from ThaiTextPrepKit.typo_patterns import patterns\n",
    "from ThaiTextPrepKit import polars_pretextkit as preprocess\n",
    "import polars as pl\n",
    "import pandas as pd\n",
    "from openpyxl import Workbook\n",
    "from openpyxl.utils.dataframe import dataframe_to_rows\n",
    "from openpyxl.styles import PatternFill\n",
    "from bs4 import BeautifulSoup"
   ]
  },
  {
   "cell_type": "code",
   "execution_count": 114,
   "metadata": {},
   "outputs": [],
   "source": [
    "thai_consonants = \"กขฃคฅฆงจฉชซฌญฎฏฐฑฒณดตถทธนบปผฝพฟภมยรลวศษสหฬอฮ\"\n",
    "vowel_typo = '่้๊๋็ีัเ์ื?' # ่ ้ ๊ ๋ ็ ี ั เ ื ์ ?\n",
    "thai_tonemarks = (\n",
    "#  ็ ่ ้ ๊ ๋ ์ ํ ๎\n",
    "\"\"\"\n",
    "\\u0e47\\u0e48\\u0e49\\u0e4a\\u0e4b\\u0e4c\\u0e4d\\u0e4e\n",
    "\"\"\"\n",
    ")\n",
    "thanthakhat = (\n",
    "# ์ ํ ๎\n",
    "\"\"\"\n",
    "\\u0e4c\\u0e4d\\u0e4e\n",
    "\"\"\"\n",
    ")\n",
    "thai_complete_end_vowels = (\n",
    "# ะ ำ ๅ ๆ\n",
    "\"\"\"\n",
    "\\u0e30\\u0e33\\u0e45\\u0e46\n",
    "\"\"\"\n",
    ")\n",
    "\n",
    "patterns = [\n",
    "    (re.compile(rf'(ๅ)', re.IGNORECASE), 'า'),\n",
    "    (re.compile(rf'(แอ๊บ)|(แอ[พปฟผ]*[พปฟผ]*ลิเคช[ัี]*[่้๊๋็ีัเ]น)|(แอ[่้๊๋็ีัเ]*[พปฟผฯ][ฯ]*(?!เปิ[่้๊๋็ีัเ]*ล))|ap[p]*lication|(?<![A-Za-z])app(?![A-Za-z])', re.IGNORECASE), 'แอปพลิเคชัน'),\n",
    "    (re.compile(rf'(?<![A-Za-z])apple(?![A-Za-z])|([เแ]อ[่้๊๋็ีัเ]*[ปผแบยลำพะฟห][เด้][ปบผ][ิฺอื]*[ลน])', re.IGNORECASE), 'แอปเปิ้ล'),\n",
    "    (re.compile(rf'(scan|แสกน)', re.IGNORECASE), 'สแกน'),\n",
    "    (re.compile(rf'(time)', re.IGNORECASE), 'เวลา'),\n",
    "    (re.compile(rf'(ใข้วาน)|([ไใฝำ]*[ชข][{vowel_typo}]*[ง|ว|ฝ][า|ส|่]น)', re.IGNORECASE), 'ใช้งาน'),\n",
    "    (re.compile(rf'((ใข้ว่าย)|([ไใฝำ]*[ชข][{vowel_typo}]*[งวส][{vowel_typo}]*[่าส]ย))', re.IGNORECASE), 'ใช้ง่าย'),\n",
    "    (re.compile(rf'(([ไใฝำ]*[ชข][{vowel_typo}]*[นยบ][{vowel_typo}]*[่าส]ก))', re.IGNORECASE), 'ใช้ยาก'),\n",
    "    (re.compile(rf'(?<!baht\\s)((inter)*net)(?!\\sbanking)|(อินเ[ทต]อ[ร]*[ื์]*)เ[นฯณรยญ][{vowel_typo}]*[ตจคดกทมน]|([อแิ][อิืฺ์ี]*[รนณฯญย][ดเ้][ทตมคจ][{vowel_typo}][แอิ]*[ร]*[ื์]*[รณนฯย]*[ดเ้][รณนฯย][{vowel_typo}]*[คตจทม๖?]*[คตจทม๖?{vowel_typo}]*[คตจทม๖?{vowel_typo}]*)|(เน[{vowel_typo}]*[ตท?๖][ื์]*[ตท?๖]*[ื์]*)', re.IGNORECASE), 'อินเทอร์เน็ต'),\n",
    "    (re.compile(rf'(บั[นรญณ]ช[ีร])|(แอ[{thai_tonemarks}]*ค[ฯ]*(เค[{thai_tonemarks}]*า[ทตค]*[ื์]*)*)|(ac[c]*ount)|(?<=[{thai_consonants} ])(acc)(?![A-Za-z])', re.IGNORECASE), 'บัญชี'),\n",
    "    (re.compile(rf'(sms)', re.IGNORECASE), 'ข้อความ'),\n",
    "    (re.compile(rf'((?<!\\S)a[td]m(?![A-Za-z])|ตู้[ ]*atm|เอทีเอ[{thai_tonemarks}]*ม)', re.IGNORECASE), 'เครื่องอัตโนมัติ'),\n",
    "    (re.compile(rf'(พ[.]*น[.]*ง[.]*)|(พนง|พนง\\.)|(พน[ั]กง[า]*น)', re.IGNORECASE), 'พนักงาน'),\n",
    "    (re.compile(rf'(system|รบบ)', re.IGNORECASE), 'ระบบ'),\n",
    "    (re.compile(rf'(slip|สลิ[บผพ])', re.IGNORECASE), 'สลิป'),\n",
    "    (re.compile(rf'(error|เอ[{thai_tonemarks}]*อเร[{thai_tonemarks}]*อ)', re.IGNORECASE), 'ผิดพลาด'),\n",
    "    (re.compile(rf'(เวิน|ฌงิน|เงิฯ|เงฺน)', re.IGNORECASE), 'เงิน'),\n",
    "    (re.compile(rf'(ร[ะ]*[ฟหก][ัะีํ๊]ส)', re.IGNORECASE), 'รหัส'),\n",
    "    (re.compile(rf'(\\bpin(?![A-Za-z])|พิ[นณฯ](?!า))|(pwd|pa[s]*sword|pass)|(ร[ะ]*[ฟหกฆ][{vowel_typo}]*[าสว][ฟผป][{vowel_typo}][รนยฯ])|([พภ]า[ร]*[์]*[สดทต][เด้]ว[ิื]*[อ]*[ร]*[์ื]*[กดเตท])', re.IGNORECASE), 'รหัสผ่าน'),\n",
    "    (re.compile(rf'(อัต[ิ]*โนมัต[ิ]*)', re.IGNORECASE), 'อัตโนมัติ'),\n",
    "    (re.compile(rf'(เบอ[ร]*[์]*โท[ร]*[สศ]ั[พบ][ท]*[์]*)|(เบอ[ร์]*โท[ร]*)|(เบอ(?!ะ)[ร]*[์]*)', re.IGNORECASE), 'หมายเลขโทรศัพท์'),\n",
    "    (re.compile(rf'(ไช้)', re.IGNORECASE), 'ใช้'),\n",
    "    (re.compile(rf'(ไช่)', re.IGNORECASE), 'ใช่'),\n",
    "    (re.compile(rf'(รุ้)', re.IGNORECASE), 'รู้'),\n",
    "    (re.compile(rf'(แล[เ้่]ว)', re.IGNORECASE), 'แล้ว'),\n",
    "    (re.compile(rf'(บ[.]*ช[.])|(บั[น|ร|ณ|ย]ชี)', re.IGNORECASE), 'บัญชี'),\n",
    "    (re.compile(rf'(เข้ส)', re.IGNORECASE), 'เข้า'),\n",
    "    (re.compile(rf'(ธุระกรมม|ธุระกรม|ธุรกรม|ธุรกรมม|ธุระกรรม|ทุระกรรม|ทุรกรรม|ทุรกรม|ทุรกรมม|ธุกรรม|ทุกรรม)', re.IGNORECASE), 'ธุรกรรม'),\n",
    "    (re.compile(rf'(อัพ)', re.IGNORECASE), 'อัป'),\n",
    "    (re.compile(rf'(ให่|ไห้|ไห่)', re.IGNORECASE), 'ให้'),\n",
    "    (re.compile(rf'(ทันไจ|ทันจัย)', re.IGNORECASE), 'ทันใจ'),\n",
    "    (re.compile(rf'(ปั[{vowel_typo}]*[ญยนณรสบฯ]หา)', re.IGNORECASE), 'ปัญหา'),\n",
    "    (re.compile(rf'(อัพเดท|อัพเดต|อัปเดท|อัปเกรด|update|upgrade)', re.IGNORECASE), 'อัปเดต'),\n",
    "    (re.compile(rf'(สะดวด|สดวก|สดวด|สกวก|สะกวก|สพกวก|สพดวก|convenient|convenience)', re.IGNORECASE), 'สะดวก'),\n",
    "    (re.compile(rf'(login|log-in|ล็อคอิน|ล็อกอิน|ลอกอิน|ล้อกอิน|ลอคอิน|ล้อคอิน)', re.IGNORECASE), 'เข้าใช้งาน'),\n",
    "    (re.compile(rf'(ลวดเร็ว|ลวดเล็ว|รวดเล็ว|ดรดเร็ว|รวดเรว|รวดดร็ว|รวดเร้ว|fast|พรวดเร็ว)|เ[ลร][{vowel_typo}]*[กดเ]*[กดเ][ลร][{vowel_typo}]*[วด]|([พ]*[พรล]ว[เด้]*[แเด้][รล][{vowel_typo}]*[วด])', re.IGNORECASE), 'รวดเร็ว'),\n",
    "    (re.compile(rf'(เร้ว|ดร็ว|ดรว|เรว)', re.IGNORECASE), 'เร็ว'),\n",
    "    (re.compile(rf'(อย่างง(?!ง))', re.IGNORECASE), 'อย่าง'),\n",
    "    (re.compile(rf'(งง+)', re.IGNORECASE), 'งง'),\n",
    "    (re.compile(rf'(บริ[กด][าส][า]*[นรฯยญณ])', re.IGNORECASE), 'บริการ'),\n",
    "    (re.compile(rf'(เหตการ|เหตการณ์)', re.IGNORECASE), 'เหตุการณ์'),\n",
    "    (re.compile(rf'(มาก+)', re.IGNORECASE), 'มาก'),\n",
    "    (re.compile(rf'เก[ณ]([ฑพทฐ][{thanthakhat}])*|เก[รญนฯ]*([ฑพทฐ][{thanthakhat}])', re.IGNORECASE), 'เกณฑ์'),\n",
    "    (re.compile(rf'(cal[l]*[ ]*center)|(คอ[นล]เซ[{thai_tonemarks}]*[นลยบญรฯ]เต[{thai_tonemarks}]*อ(ร[{thai_tonemarks}]*)*)', re.IGNORECASE), 'คอลเซ็นเตอร์'),\n",
    "    (re.compile(rf'([ๆไใ]ม[{vowel_typo}]*[ๆไใำ]ด[{vowel_typo}]*)|(มั[{vowel_typo}]*ย[ๆไใำ]ด[{vowel_typo}]*)|(มั[{vowel_typo}]*ยดั[{vowel_typo}]*ย)|(มั[{vowel_typo}]*ยด[{vowel_typo}]*าย)|(มั[{vowel_typo}]*ยดร[{vowel_typo}]*[า]*ย)|([ๆไใ]ม[{vowel_typo}]*ด[{vowel_typo}]*าย)|(บ่(ด[{vowel_typo}]*าย|ดร[{vowel_typo}]*[า]*ย|[ๆไใำ]ด[{vowel_typo}]*))', re.IGNORECASE), 'ไม่ได้'),\n",
    "    (re.compile(rf'(ล[{thai_tonemarks}]าช[{thai_tonemarks}]*[า])', re.IGNORECASE), 'ล่าช้า'),\n",
    "    (re.compile(rf'([โดเก]ค[ห]*[วสงย][ิื]*[{vowel_typo}]*[ดคตท]*[- ]*19)|(covid[ ]*19)', re.IGNORECASE), 'covid-19'),\n",
    "    (re.compile(rf'([ตคจ][{vowel_typo}]*[อิแ]*[{vowel_typo}]*[วง][กดห][่าส][รนี])', re.IGNORECASE), 'ต้องการ'),\n",
    "    (re.compile(rf'จ[.]*น[.]*ท[.]', re.IGNORECASE), 'เจ้าหน้าที่'),\n",
    "    (re.compile(rf'[ส]*[ะ]*เ(ส[ี]*)*ถ[ี]*ย[รนยณญ]', re.IGNORECASE), 'เสถียร'),\n",
    "    (re.compile(rf'((กรุงไท[ย]*)เน[{thai_tonemarks}]*[กหดป])', re.IGNORECASE), 'กรุงไทยเน็กซ์'),\n",
    "    #(re.compile(rf'(แบ[{thai_tonemarks}]*ง)[กค][์]', re.IGNORECASE), 'ธนาคาร'),\n",
    "    (re.compile(rf'(แบ[{thai_tonemarks}]*ง)[กค][์]', re.IGNORECASE), 'แบงก์'),\n",
    "\n",
    "    # New in 1.1d\n",
    "    # Only support with 'ลาย___' only\n",
    "    (re.compile(rf'(ล[าสษ]ย)เ[ซวง][{thai_tonemarks}]*[นฯณญยร]([ตค][{thanthakhat}])*', re.IGNORECASE), 'ลายเซ็น'),\n",
    "    (re.compile(rf'คั[สดศษซตจช]([โ]*([ทตค][อ]*[ม]*))*เมอ[รสต{thanthakhat}]*เซอ[รสต{thanthakhat}]*[ห]*วิ[สวศซษตดช]', re.IGNORECASE), 'Customer Service'),\n",
    "    (re.compile(rf'ซั[บปฟพฑ]พ(อ(ร[{thanthakhat}]*)*)*[ตดส]', re.IGNORECASE), 'ซัพพอร์ต'),\n",
    "    (re.compile(rf'ค่า[ธะทพฑ]*ร[ร]*มเนียม', re.IGNORECASE), 'ค่าธรรมเนียม'),\n",
    "    (re.compile(rf'(ผ[.]*จ[.]*ก[.]*)', re.IGNORECASE), 'ผู้จัดการ'),\n",
    "    (re.compile(rf'(ส[.]*น[.]*ง[.])', re.IGNORECASE), 'สำนักงาน'),\n",
    "    (re.compile(rf'ดอก[ดเแ]*บี้ย', re.IGNORECASE), 'ดอกเบี้ย'),\n",
    "    (re.compile(rf'(dow[n]*)*load|(?<!อั[พปบ])(ดาว)*(น[{thanthakhat}]*)*[โด][ห]*ลด', re.IGNORECASE), 'ดาวน์โหลด'),\n",
    "    (re.compile(rf'upload|อั[{thai_tonemarks}]*[พปบฟ][โด][ห]*ลด', re.IGNORECASE), 'อัปโหลด'),\n",
    "    (re.compile(rf'counter|เค[{thai_tonemarks}]*า([นทต][{thanthakhat}]*)*เ[ตท]อร์', re.IGNORECASE), 'เคาน์เตอร์'),\n",
    "    (re.compile(rf'อัต[ร]*[า]|อัตร[า]*', re.IGNORECASE), 'อัตรา'),\n",
    "\n",
    "    # Base end\n",
    "    #(re.compile(rf'()', re.IGNORECASE), ''),\n",
    "    (re.compile(rf'(&nbsp;)', re.IGNORECASE), ''),\n",
    "    (re.compile(rf'(?<=\\S)\\.(?=\\s|$)', re.IGNORECASE), ''), # remove the full stop mark at the end of a sentence\n",
    "]"
   ]
  },
  {
   "cell_type": "code",
   "execution_count": 15,
   "metadata": {},
   "outputs": [
    {
     "data": {
      "text/plain": [
       "'def highlight_patterns(patterns, text, highlight_color=\"#FFFF00\"):\\n    \"\"\"\\n    Highlights all occurrences of the given regex patterns in the text using HTML <span> tags with background color.\\n\\n    :param patterns: A list of tuples containing regex patterns and their replacements.\\n    :param text: The text to search within.\\n    :param highlight_color: The background color to use for highlighting (default is yellow).\\n    :return: The text with highlighted matches.\\n    \"\"\"\\n    def add_highlight(match):\\n        return f\\'<span style=\"background-color: {highlight_color};\">{match.group(0)}</span>\\'\\n    \\n    highlighted_text = text\\n    for pattern, replacement in patterns:\\n        highlighted_text = re.sub(pattern, add_highlight, highlighted_text)\\n    \\n    return highlighted_text'"
      ]
     },
     "execution_count": 15,
     "metadata": {},
     "output_type": "execute_result"
    }
   ],
   "source": [
    "'''def highlight_patterns(patterns, text, highlight_color=\"#FFFF00\"):\n",
    "    \"\"\"\n",
    "    Highlights all occurrences of the given regex patterns in the text using HTML <span> tags with background color.\n",
    "\n",
    "    :param patterns: A list of tuples containing regex patterns and their replacements.\n",
    "    :param text: The text to search within.\n",
    "    :param highlight_color: The background color to use for highlighting (default is yellow).\n",
    "    :return: The text with highlighted matches.\n",
    "    \"\"\"\n",
    "    def add_highlight(match):\n",
    "        return f'<span style=\"background-color: {highlight_color};\">{match.group(0)}</span>'\n",
    "    \n",
    "    highlighted_text = text\n",
    "    for pattern, replacement in patterns:\n",
    "        highlighted_text = re.sub(pattern, add_highlight, highlighted_text)\n",
    "    \n",
    "    return highlighted_text'''"
   ]
  },
  {
   "cell_type": "code",
   "execution_count": 201,
   "metadata": {},
   "outputs": [],
   "source": [
    "def highlight_patterns(patterns, text, highlight_color_replace=\"#FFFF00\", highlight_color_match=\"#00FFFF\"):\n",
    "    \"\"\"\n",
    "    Highlights all occurrences of the given regex patterns in the text using HTML <span> tags with background color.\n",
    "\n",
    "    :param patterns: A list of tuples containing regex patterns and their replacements.\n",
    "    :param text: The text to search within.\n",
    "    :param highlight_color_replace: The background color to use for replacements (default is yellow).\n",
    "    :param highlight_color_match: The background color to use for matches without replacement (default is blue).\n",
    "    :return: The text with highlighted matches.\n",
    "    \"\"\"\n",
    "    def add_highlight(match, color):\n",
    "        return f'<span style=\"background-color: {color};\">{match.group(0)}</span>'\n",
    "    \n",
    "    highlighted_text = text\n",
    "    for pattern, replacement in patterns:\n",
    "        matches = list(re.finditer(pattern, text))\n",
    "        if matches:\n",
    "            for match in matches:\n",
    "                if replacement in match.group(0):\n",
    "                    highlighted_text = highlighted_text.replace(match.group(0), add_highlight(match, highlight_color_match))\n",
    "                else:\n",
    "                    highlighted_text = highlighted_text.replace(match.group(0), add_highlight(match, highlight_color_replace))\n",
    "    \n",
    "    return highlighted_text"
   ]
  },
  {
   "cell_type": "code",
   "execution_count": 202,
   "metadata": {},
   "outputs": [],
   "source": [
    "text = \"I love using แอ๊บ and แอปพลิเคชัน application on my apple device.\"\n",
    "\n",
    "highlighted_text = highlight_patterns(patterns, text)"
   ]
  },
  {
   "cell_type": "code",
   "execution_count": 203,
   "metadata": {},
   "outputs": [
    {
     "data": {
      "text/markdown": [
       "I love using <span style=\"background-color: #FFFF00;\">แอ๊บ</span> and <span style=\"background-color: #00FFFF;\">แอปพลิเคชัน</span> <span style=\"background-color: #FFFF00;\">application</span> on my <span style=\"background-color: #FFFF00;\">apple</span> device<span style=\"background-color: #00FFFF;\">.</span>"
      ],
      "text/plain": [
       "<IPython.core.display.Markdown object>"
      ]
     },
     "metadata": {},
     "output_type": "display_data"
    }
   ],
   "source": [
    "display(Markdown(highlighted_text))"
   ]
  },
  {
   "cell_type": "code",
   "execution_count": 143,
   "metadata": {},
   "outputs": [
    {
     "data": {
      "text/plain": [
       "'I love using <span style=\"background-color: #FFFF00;\">แอ๊บ</span> and <span style=\"background-color: #00FFFF;\">แอปพลิเคชัน</span> <span style=\"background-color: #FFFF00;\">application</span> on my <span style=\"background-color: #FFFF00;\">apple</span> device<span style=\"background-color: #00FFFF;\">.</span>'"
      ]
     },
     "execution_count": 143,
     "metadata": {},
     "output_type": "execute_result"
    }
   ],
   "source": [
    "highlighted_text"
   ]
  },
  {
   "cell_type": "code",
   "execution_count": 184,
   "metadata": {},
   "outputs": [],
   "source": [
    "def get_highlight_texts(texts: list) -> None:\n",
    "    html_text = []\n",
    "    for text in texts:\n",
    "        html_text.append(highlight_patterns(patterns, text))\n",
    "    return html_text"
   ]
  },
  {
   "cell_type": "code",
   "execution_count": 23,
   "metadata": {},
   "outputs": [],
   "source": [
    "df = pl.read_excel('/Users/pa/Downloads/Test ML - Corp V2.xlsx',\n",
    "                   engine='calamine')\n",
    "\n",
    "texts = df.get_column('Reason')"
   ]
  },
  {
   "cell_type": "code",
   "execution_count": 204,
   "metadata": {},
   "outputs": [
    {
     "data": {
      "text/markdown": [
       "<span style=\"background-color: #00FFFF;\">แอปพลิเคชัน</span>ดี"
      ],
      "text/plain": [
       "<IPython.core.display.Markdown object>"
      ]
     },
     "metadata": {},
     "output_type": "display_data"
    },
    {
     "data": {
      "text/markdown": [
       "<span style=\"background-color: #FFFF00;\">แอพลิเคชั่น</span>ดี"
      ],
      "text/plain": [
       "<IPython.core.display.Markdown object>"
      ]
     },
     "metadata": {},
     "output_type": "display_data"
    },
    {
     "data": {
      "text/markdown": [
       "internet banking <span style=\"background-color: #00FFFF;\">ใช้งาน</span>ง่าย มีคู่มือให้ดูได้จากหน้าเว็บ"
      ],
      "text/plain": [
       "<IPython.core.display.Markdown object>"
      ]
     },
     "metadata": {},
     "output_type": "display_data"
    },
    {
     "data": {
      "text/markdown": [
       "internet banking"
      ],
      "text/plain": [
       "<IPython.core.display.Markdown object>"
      ]
     },
     "metadata": {},
     "output_type": "display_data"
    },
    {
     "data": {
      "text/markdown": [
       "net banking"
      ],
      "text/plain": [
       "<IPython.core.display.Markdown object>"
      ]
     },
     "metadata": {},
     "output_type": "display_data"
    },
    {
     "data": {
      "text/markdown": [
       "<span style=\"background-color: #FFFF00;\">อินเตอร์เน็ต</span>"
      ],
      "text/plain": [
       "<IPython.core.display.Markdown object>"
      ]
     },
     "metadata": {},
     "output_type": "display_data"
    },
    {
     "data": {
      "text/markdown": [
       "<span style=\"background-color: #FFFF00;\">อินเตอร์เน็ต</span><span style=\"background-color: #FFFF00;\">แบงค์</span>กิ้ง"
      ],
      "text/plain": [
       "<IPython.core.display.Markdown object>"
      ]
     },
     "metadata": {},
     "output_type": "display_data"
    },
    {
     "data": {
      "text/markdown": [
       "<span style=\"background-color: #FFFF00;\">internet</span> แบงกิ้ง"
      ],
      "text/plain": [
       "<IPython.core.display.Markdown object>"
      ]
     },
     "metadata": {},
     "output_type": "display_data"
    },
    {
     "data": {
      "text/markdown": [
       "baht net"
      ],
      "text/plain": [
       "<IPython.core.display.Markdown object>"
      ]
     },
     "metadata": {},
     "output_type": "display_data"
    },
    {
     "data": {
      "text/markdown": [
       "bath <span style=\"background-color: #FFFF00;\">net</span>"
      ],
      "text/plain": [
       "<IPython.core.display.Markdown object>"
      ]
     },
     "metadata": {},
     "output_type": "display_data"
    },
    {
     "data": {
      "text/markdown": [
       "<span style=\"background-color: #FFFF00;\">net</span>"
      ],
      "text/plain": [
       "<IPython.core.display.Markdown object>"
      ]
     },
     "metadata": {},
     "output_type": "display_data"
    },
    {
     "data": {
      "text/markdown": [
       "I love using <span style=\"background-color: #FFFF00;\">แอ๊บ</span> and <span style=\"background-color: #00FFFF;\">แอปพลิเคชัน</span> <span style=\"background-color: #FFFF00;\">application</span> on my <span style=\"background-color: #FFFF00;\">apple</span> device<span style=\"background-color: #00FFFF;\">.</span>"
      ],
      "text/plain": [
       "<IPython.core.display.Markdown object>"
      ]
     },
     "metadata": {},
     "output_type": "display_data"
    }
   ],
   "source": [
    "texts = [\n",
    "    'แอปพลิเคชันดี',\n",
    "    'แอพลิเคชั่นดี',\n",
    "    'internet banking ใช้งานง่าย มีคู่มือให้ดูได้จากหน้าเว็บ',\n",
    "    'internet banking',\n",
    "    'net banking',\n",
    "    'อินเตอร์เน็ต',\n",
    "    'อินเตอร์เน็ตแบงค์กิ้ง',\n",
    "    'internet แบงกิ้ง',\n",
    "    'baht net',\n",
    "    'bath net',\n",
    "    'net',\n",
    "    'I love using แอ๊บ and แอปพลิเคชัน application on my apple device.',\n",
    "]\n",
    "html_texts = get_highlight_texts(texts)\n",
    "\n",
    "for text in html_texts:\n",
    "    display(Markdown(text))"
   ]
  },
  {
   "cell_type": "code",
   "execution_count": 216,
   "metadata": {},
   "outputs": [
    {
     "name": "stdout",
     "output_type": "stream",
     "text": [
      "แอปพลิเคชันดี\n",
      "แอปพลิเคชันดี\n",
      "internet banking ใช้งานง่าย มีคู่มือให้ดูได้จากหน้าเว็บ\n",
      "internet banking\n",
      "net banking\n",
      "อินเทอร์เน็ต\n",
      "อินเทอร์เน็ตแบงก์กิ้ง\n",
      "อินเทอร์เน็ต แบงกิ้ง\n",
      "baht net\n",
      "bath อินเทอร์เน็ต\n",
      "อินเทอร์เน็ต\n",
      "I love using แอปพลิเคชัน and แอปพลิเคชัน แอปพลิเคชัน on my แอปเปิ้ล device\n"
     ]
    }
   ],
   "source": [
    "series = pl.Series(texts)\n",
    "pre_series = preprocess.preprocess_text_batches(series=series,\n",
    "                                   custom_dict=None,\n",
    "                                   keep_stopwords=True,\n",
    "                                   keep_format=True,\n",
    "                                   return_token_list=False,\n",
    "                                   lower_case=False,\n",
    "                                   include_pattern='/')\n",
    "\n",
    "for t in pre_series:\n",
    "    print(t)"
   ]
  },
  {
   "cell_type": "code",
   "execution_count": 219,
   "metadata": {},
   "outputs": [],
   "source": [
    "from IPython.display import HTML, display, FileLink\n",
    "\n",
    "def generate_html_table(original_texts, preprocess_texts):\n",
    "    \"\"\"\n",
    "    Generate an HTML table with 'original_text' and 'preprocess_text' columns.\n",
    "\n",
    "    Args:\n",
    "    - original_texts (list): List of original texts.\n",
    "    - preprocess_texts (list): List of preprocessed texts.\n",
    "\n",
    "    Returns:\n",
    "    - html_content (str): String containing the HTML table.\n",
    "    \"\"\"\n",
    "    html_content = \"<table border='1'>\\n\"\n",
    "    html_content += \"<tr><th>original_text</th><th>preprocess_text</th></tr>\\n\"\n",
    "\n",
    "    for original, preprocess in zip(original_texts, preprocess_texts):\n",
    "        html_content += f\"<tr><td>{original}</td><td>{preprocess}</td></tr>\\n\"\n",
    "\n",
    "    html_content += \"</table>\"\n",
    "    \n",
    "    return html_content\n"
   ]
  },
  {
   "cell_type": "code",
   "execution_count": 220,
   "metadata": {},
   "outputs": [
    {
     "data": {
      "text/html": [
       "<table border='1'>\n",
       "<tr><th>original_text</th><th>preprocess_text</th></tr>\n",
       "<tr><td><span style=\"background-color: #00FFFF;\">แอปพลิเคชัน</span>ดี</td><td>แอปพลิเคชันดี</td></tr>\n",
       "<tr><td><span style=\"background-color: #FFFF00;\">แอพลิเคชั่น</span>ดี</td><td>แอปพลิเคชันดี</td></tr>\n",
       "<tr><td>internet banking <span style=\"background-color: #00FFFF;\">ใช้งาน</span>ง่าย มีคู่มือให้ดูได้จากหน้าเว็บ</td><td>internet banking ใช้งานง่าย มีคู่มือให้ดูได้จากหน้าเว็บ</td></tr>\n",
       "<tr><td>internet banking</td><td>internet banking</td></tr>\n",
       "<tr><td>net banking</td><td>net banking</td></tr>\n",
       "<tr><td><span style=\"background-color: #FFFF00;\">อินเตอร์เน็ต</span></td><td>อินเทอร์เน็ต</td></tr>\n",
       "<tr><td><span style=\"background-color: #FFFF00;\">อินเตอร์เน็ต</span><span style=\"background-color: #FFFF00;\">แบงค์</span>กิ้ง</td><td>อินเทอร์เน็ตแบงก์กิ้ง</td></tr>\n",
       "<tr><td><span style=\"background-color: #FFFF00;\">internet</span> แบงกิ้ง</td><td>อินเทอร์เน็ต แบงกิ้ง</td></tr>\n",
       "<tr><td>baht net</td><td>baht net</td></tr>\n",
       "<tr><td>bath <span style=\"background-color: #FFFF00;\">net</span></td><td>bath อินเทอร์เน็ต</td></tr>\n",
       "<tr><td><span style=\"background-color: #FFFF00;\">net</span></td><td>อินเทอร์เน็ต</td></tr>\n",
       "<tr><td>I love using <span style=\"background-color: #FFFF00;\">แอ๊บ</span> and <span style=\"background-color: #00FFFF;\">แอปพลิเคชัน</span> <span style=\"background-color: #FFFF00;\">application</span> on my <span style=\"background-color: #FFFF00;\">apple</span> device<span style=\"background-color: #00FFFF;\">.</span></td><td>I love using แอปพลิเคชัน and แอปพลิเคชัน แอปพลิเคชัน on my แอปเปิ้ล device</td></tr>\n",
       "</table>"
      ],
      "text/plain": [
       "<IPython.core.display.HTML object>"
      ]
     },
     "metadata": {},
     "output_type": "display_data"
    }
   ],
   "source": [
    "# Example lists (replace with your data)\n",
    "'''original_texts = ['<span style=\"background-color: #00FFFF;\">แอปพลิเคชัน</span>ดี',\n",
    "                  '<span style=\"background-color: #FFFF00;\">แอพลิเคชั่น</span>ดี',\n",
    "                  'internet banking <span style=\"background-color: #00FFFF;\">ใช้งาน</span>ง่าย มีคู่มือให้ดูได้จากหน้าเว็บ',]\n",
    "\n",
    "preprocess_texts = ['แอปพลิเคชันดี',\n",
    "                    'แอปพลิเคชันดี',\n",
    "                    'internet banking ใช้งานง่าย มีคู่มือให้ดูได้จากหน้าเว็บ']'''\n",
    "\n",
    "# Generate HTML table\n",
    "html_table = generate_html_table(original_texts=html_texts, preprocess_texts=pre_series.to_list())\n",
    "\n",
    "# Display HTML in Jupyter Notebook\n",
    "from IPython.display import HTML, display\n",
    "display(HTML(html_table))"
   ]
  },
  {
   "cell_type": "code",
   "execution_count": 221,
   "metadata": {},
   "outputs": [
    {
     "data": {
      "text/html": [
       "<a href='table.html' target='_blank'>table.html</a><br>"
      ],
      "text/plain": [
       "/Users/pa/Documents/GitHub Repository Clone/DataPrepKit/table.html"
      ]
     },
     "execution_count": 221,
     "metadata": {},
     "output_type": "execute_result"
    }
   ],
   "source": [
    "# Create a downloadable link for the HTML content\n",
    "with open('table.html', 'w') as f:\n",
    "    f.write(html_table)\n",
    "\n",
    "FileLink('table.html')"
   ]
  }
 ],
 "metadata": {
  "kernelspec": {
   "display_name": ".venv",
   "language": "python",
   "name": "python3"
  },
  "language_info": {
   "codemirror_mode": {
    "name": "ipython",
    "version": 3
   },
   "file_extension": ".py",
   "mimetype": "text/x-python",
   "name": "python",
   "nbconvert_exporter": "python",
   "pygments_lexer": "ipython3",
   "version": "3.9.6"
  }
 },
 "nbformat": 4,
 "nbformat_minor": 2
}

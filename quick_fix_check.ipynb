{
 "cells": [
  {
   "cell_type": "code",
   "execution_count": 1,
   "metadata": {},
   "outputs": [],
   "source": [
    "import ThaiTextPrepKit\n",
    "from ThaiTextPrepKit import polars_pretextkit as preprocess"
   ]
  },
  {
   "cell_type": "code",
   "execution_count": 2,
   "metadata": {},
   "outputs": [
    {
     "data": {
      "text/plain": [
       "'1.2b'"
      ]
     },
     "execution_count": 2,
     "metadata": {},
     "output_type": "execute_result"
    }
   ],
   "source": [
    "ThaiTextPrepKit.__version__"
   ]
  },
  {
   "cell_type": "code",
   "execution_count": 3,
   "metadata": {},
   "outputs": [],
   "source": [
    "test_texts = [\n",
    "    'เบอร์',\n",
    "    'เบอร์โทร',\n",
    "    'เบอโทรสัพท์',\n",
    "    'เบอโทรแอป',\n",
    "    'แอปเบอร์ไม่มีมีแต่เบอร์โทใครไม่รู้',\n",
    "    ]"
   ]
  },
  {
   "cell_type": "code",
   "execution_count": 4,
   "metadata": {},
   "outputs": [],
   "source": [
    "import re\n",
    "skip_patterns = None #[re.compile(rf'(เบอ[ร]*[์]*โท[ร]*[สศ]ั[พบ][ท]*[์]*)|(เบอ[ร์]*โท[ร]*)|(เบอ(?!ะ)[ร]*[์]*)', re.IGNORECASE),]"
   ]
  },
  {
   "cell_type": "code",
   "execution_count": 5,
   "metadata": {},
   "outputs": [],
   "source": [
    "from ThaiTextPrepKit import typo_patterns"
   ]
  },
  {
   "cell_type": "code",
   "execution_count": 7,
   "metadata": {},
   "outputs": [
    {
     "name": "stdout",
     "output_type": "stream",
     "text": [
      "เบอร์\n",
      "เบอร์โทร\n",
      "เบอร์โทรศัพท์\n",
      "เบอร์โทรแอปพลิเคชัน\n",
      "แอปพลิเคชันเบอร์ไม่มีมีแต่เบอร์โทรใครไม่รู้\n"
     ]
    }
   ],
   "source": [
    "import polars as pl\n",
    "\n",
    "series = pl.Series(test_texts)\n",
    "pre_series = preprocess.preprocess_text_batches(series=series,\n",
    "                                   custom_dict=None,\n",
    "                                   keep_stopwords=True,\n",
    "                                   keep_format=True,\n",
    "                                   return_token_list=False,\n",
    "                                   lower_case=False,\n",
    "                                   include_pattern='[/()]',\n",
    "                                   skip_patterns=skip_patterns,\n",
    "                                   patterns=typo_patterns.corp_patterns)\n",
    "\n",
    "for t in pre_series:\n",
    "    print(t)"
   ]
  }
 ],
 "metadata": {
  "kernelspec": {
   "display_name": ".venv",
   "language": "python",
   "name": "python3"
  },
  "language_info": {
   "codemirror_mode": {
    "name": "ipython",
    "version": 3
   },
   "file_extension": ".py",
   "mimetype": "text/x-python",
   "name": "python",
   "nbconvert_exporter": "python",
   "pygments_lexer": "ipython3",
   "version": "3.11.9"
  }
 },
 "nbformat": 4,
 "nbformat_minor": 2
}

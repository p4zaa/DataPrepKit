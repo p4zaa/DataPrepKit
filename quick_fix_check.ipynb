{
 "cells": [
  {
   "cell_type": "code",
   "execution_count": 1,
   "metadata": {},
   "outputs": [],
   "source": [
    "import ThaiTextPrepKit\n",
    "from ThaiTextPrepKit import polars_pretextkit as preprocess\n",
    "from ThaiTextPrepKit import fix_common_words as FIX"
   ]
  },
  {
   "cell_type": "code",
   "execution_count": 2,
   "metadata": {},
   "outputs": [
    {
     "data": {
      "text/plain": [
       "'1.1d'"
      ]
     },
     "execution_count": 2,
     "metadata": {},
     "output_type": "execute_result"
    }
   ],
   "source": [
    "ThaiTextPrepKit.__version__"
   ]
  },
  {
   "cell_type": "code",
   "execution_count": 3,
   "metadata": {},
   "outputs": [
    {
     "name": "stdout",
     "output_type": "stream",
     "text": [
      "App ใช้ง่าย ไม่ซับซ้อน ทันสมัย\n",
      "RD นั่นนู่นนี่\n",
      "เจ้าหน้าที่ทีCustomer Serviceให้คำปรึกษาดีดูแลดี\n",
      "RM จะซัพพอร์ตตลอด มีปัญหาอะไรก็จะช่วยเหลือตลอด\n",
      "ค่าธรรมเนียมการโอนจ่ายคิดให้ราคาถูก\n",
      "เวลามีปัญหาติดต่อแต่ละแผนกได้เลยมีแผนกรับผิดชอบชัดเจน เช่น L/C, tr\n"
     ]
    }
   ],
   "source": [
    "test_texts = ['App ใช้ง่าย ไม่ซับซ้อน ทันสมัย',\n",
    "              'RD นั่นนู่นนี่',\n",
    "              'เจ้าหน้าที่ทีคัสเมอร์เซอร์วิสให้คำปรึกษาดีดูแลดี',\n",
    "              'RM จะซัพพตตลอด มีปัญหาอะไรก็จะช่วยเหลือตลอด',\n",
    "              'ค่าะรรมเนียมการโอนจ่ายคิดให้ราคาถูก',\n",
    "              'เวลามีปัญหาติดต่อแต่ละแผนกได้เลยมีแผนกรับผิดชอบชัดเจน เช่น L/C, tr']\n",
    "\n",
    "for text in test_texts:\n",
    "    print(FIX.fix_common_word(text))"
   ]
  },
  {
   "cell_type": "code",
   "execution_count": 10,
   "metadata": {},
   "outputs": [
    {
     "name": "stdout",
     "output_type": "stream",
     "text": [
      "แอปพลิเคชัน ใช้ง่าย ไม่ซับซ้อน ทันสมัย\n",
      "rd นั่นนู่นนี่\n",
      "เจ้าหน้าที่ที Customer Service ให้คำปรึกษาดีดูแลดี\n",
      "rm จะซัพพอร์ตตลอด มีปัญหาอะไรก็จะช่วยเหลือตลอด\n",
      "ค่าธรรมเนียมการโอนจ่ายคิดให้ราคาถูก\n",
      "เวลามีปัญหาติดต่อแต่ละแผนกได้เลยมีแผนกรับผิดชอบชัดเจน เช่น l/c, tr\n"
     ]
    }
   ],
   "source": [
    "import polars as pl\n",
    "\n",
    "series = pl.Series(test_texts)\n",
    "pre_series = preprocess.preprocess_text_batches(series=series,\n",
    "                                   custom_dict=None,\n",
    "                                   keep_stopwords=True,\n",
    "                                   keep_format=True,\n",
    "                                   return_token_list=False,\n",
    "                                   lower_case=True,\n",
    "                                   include_pattern='/')\n",
    "\n",
    "for t in pre_series:\n",
    "    print(t)"
   ]
  }
 ],
 "metadata": {
  "kernelspec": {
   "display_name": ".venv",
   "language": "python",
   "name": "python3"
  },
  "language_info": {
   "codemirror_mode": {
    "name": "ipython",
    "version": 3
   },
   "file_extension": ".py",
   "mimetype": "text/x-python",
   "name": "python",
   "nbconvert_exporter": "python",
   "pygments_lexer": "ipython3",
   "version": "3.9.6"
  }
 },
 "nbformat": 4,
 "nbformat_minor": 2
}

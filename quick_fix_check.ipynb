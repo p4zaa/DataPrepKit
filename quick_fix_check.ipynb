{
 "cells": [
  {
   "cell_type": "code",
   "execution_count": 1,
   "metadata": {},
   "outputs": [],
   "source": [
    "import ThaiTextPrepKit\n",
    "from ThaiTextPrepKit import polars_pretextkit as preprocess"
   ]
  },
  {
   "cell_type": "code",
   "execution_count": 2,
   "metadata": {},
   "outputs": [],
   "source": [
    "from ThaiTextPrepKit import typo_patterns"
   ]
  },
  {
   "cell_type": "code",
   "execution_count": 3,
   "metadata": {},
   "outputs": [
    {
     "data": {
      "text/plain": [
       "'2.2.1'"
      ]
     },
     "execution_count": 3,
     "metadata": {},
     "output_type": "execute_result"
    }
   ],
   "source": [
    "import re\n",
    "re.__version__"
   ]
  },
  {
   "cell_type": "code",
   "execution_count": 4,
   "metadata": {},
   "outputs": [
    {
     "data": {
      "text/plain": [
       "'1.2k'"
      ]
     },
     "execution_count": 4,
     "metadata": {},
     "output_type": "execute_result"
    }
   ],
   "source": [
    "ThaiTextPrepKit.__version__"
   ]
  },
  {
   "cell_type": "code",
   "execution_count": 5,
   "metadata": {},
   "outputs": [],
   "source": [
    "test_texts = [\n",
    "    'แบงค์กิ้ง',\n",
    "    'ฟังชั่น',\n",
    "    'แอปโมบาย',\n",
    "    'อินเตอร์เน็ต',\n",
    "    'Websild',\n",
    "    'คอลเซนเตอร์',\n",
    "    'อิเลคโทรนิค',\n",
    "    'โมบายแบงค์กิ้ง',\n",
    "    'แอปโมบาย',\n",
    "    'สเถียร',\n",
    "    'เค้าเตอร์',\n",
    "    'ฮาร์แวร์',\n",
    "    'เจ้าหน้า',\n",
    "    'เจ้าหน้าที่',\n",
    "    'ปิโตเลียม',\n",
    "    'เครื่องยน',\n",
    "    'แอปพิเคชั่น',\n",
    "    'แอพพิเคชั่น',\n",
    "    'โควิท',\n",
    "    'กยส.',\n",
    "    'อัพเดต',\n",
    "    'อัพเดท',\n",
    "    'แอพฯ',\n",
    "    'ปฎิบัติ',\n",
    "    'เคาเตอร์',\n",
    "    'งามเนตร',\n",
    "    'ไม่ได้เลย',\n",
    "    'ไม่ได้เ',\n",
    "    'ไม่ได้ลย',\n",
    "    'ได้เลย',\n",
    "    '&amp;nbsp;&amp;nbsp;',\n",
    "    'บ/ช',\n",
    "]"
   ]
  },
  {
   "cell_type": "code",
   "execution_count": 6,
   "metadata": {},
   "outputs": [
    {
     "name": "stdout",
     "output_type": "stream",
     "text": [
      "แบงก์กิ้ง\n",
      "ฟังก์ชัน\n",
      "โมบายแบงก์กิ้ง\n",
      "อินเทอร์เน็ต\n",
      "Website\n",
      "คอลเซ็นเตอร์\n",
      "อิเล็กทรอนิกส์\n",
      "โมบายแบงก์กิ้ง\n",
      "โมบายแบงก์กิ้ง\n",
      "เสถียร\n",
      "เคาน์เตอร์\n",
      "ฮาร์ดแวร์\n",
      "เจ้าหน้าที่\n",
      "เจ้าหน้าที่\n",
      "ปิโตรเลียม\n",
      "เครื่องยนต์\n",
      "แอปพลิเคชัน\n",
      "แอปพลิเคชัน\n",
      "covid-19\n",
      "กยศ\n",
      "อัปเดต\n",
      "อัปเดต\n",
      "แอปพลิเคชัน\n",
      "ปฏิบัติ\n",
      "เคาน์เตอร์\n",
      "งามอินเทอร์เน็ตร\n",
      "ไม่ได้เลย\n",
      "ไม่ได้เ\n",
      "ไม่ได้ลย\n",
      "ได้เลย\n",
      "\n",
      "บัญชี\n"
     ]
    }
   ],
   "source": [
    "import polars as pl\n",
    "\n",
    "series = pl.Series(test_texts)\n",
    "pre_series = preprocess.preprocess_text_batches(series=series,\n",
    "                                   custom_dict=None,\n",
    "                                   keep_stopwords=True,\n",
    "                                   keep_format=True,\n",
    "                                   return_token_list=False,\n",
    "                                   lower_case=False,\n",
    "                                   include_pattern='[/()]',\n",
    "                                   #skip_patterns=skip_patterns,\n",
    "                                   patterns=typo_patterns.patterns)\n",
    "\n",
    "for t in pre_series:\n",
    "    print(t)"
   ]
  },
  {
   "cell_type": "code",
   "execution_count": 7,
   "metadata": {},
   "outputs": [
    {
     "data": {
      "text/html": [
       "<div><style>\n",
       ".dataframe > thead > tr,\n",
       ".dataframe > tbody > tr {\n",
       "  text-align: right;\n",
       "  white-space: pre-wrap;\n",
       "}\n",
       "</style>\n",
       "<small>shape: (32,)</small><table border=\"1\" class=\"dataframe\"><thead><tr><th></th></tr><tr><td>str</td></tr></thead><tbody><tr><td>&quot;แบงก์กิ้ง&quot;</td></tr><tr><td>&quot;ฟังก์ชัน&quot;</td></tr><tr><td>&quot;โมบายแบงก์กิ้ง…</td></tr><tr><td>&quot;อินเทอร์เน็ต&quot;</td></tr><tr><td>&quot;Website&quot;</td></tr><tr><td>&hellip;</td></tr><tr><td>&quot;ไม่ได้เ&quot;</td></tr><tr><td>&quot;ไม่ได้ลย&quot;</td></tr><tr><td>&quot;ได้เลย&quot;</td></tr><tr><td>&quot;&quot;</td></tr><tr><td>&quot;บัญชี&quot;</td></tr></tbody></table></div>"
      ],
      "text/plain": [
       "shape: (32,)\n",
       "Series: '' [str]\n",
       "[\n",
       "\t\"แบงก์กิ้ง\"\n",
       "\t\"ฟังก์ชัน\"\n",
       "\t\"โมบายแบงก์กิ้ง…\n",
       "\t\"อินเทอร์เน็ต\"\n",
       "\t\"Website\"\n",
       "\t…\n",
       "\t\"ไม่ได้เ\"\n",
       "\t\"ไม่ได้ลย\"\n",
       "\t\"ได้เลย\"\n",
       "\t\"\"\n",
       "\t\"บัญชี\"\n",
       "]"
      ]
     },
     "execution_count": 7,
     "metadata": {},
     "output_type": "execute_result"
    }
   ],
   "source": [
    "pre_series"
   ]
  }
 ],
 "metadata": {
  "kernelspec": {
   "display_name": ".venv",
   "language": "python",
   "name": "python3"
  },
  "language_info": {
   "codemirror_mode": {
    "name": "ipython",
    "version": 3
   },
   "file_extension": ".py",
   "mimetype": "text/x-python",
   "name": "python",
   "nbconvert_exporter": "python",
   "pygments_lexer": "ipython3",
   "version": "3.9.6"
  }
 },
 "nbformat": 4,
 "nbformat_minor": 2
}

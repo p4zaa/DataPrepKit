{
 "cells": [
  {
   "cell_type": "code",
   "execution_count": 1,
   "metadata": {},
   "outputs": [],
   "source": [
    "import ThaiTextPrepKit\n",
    "from ThaiTextPrepKit import polars_pretextkit as preprocess"
   ]
  },
  {
   "cell_type": "code",
   "execution_count": 2,
   "metadata": {},
   "outputs": [
    {
     "data": {
      "text/plain": [
       "'1.2b'"
      ]
     },
     "execution_count": 2,
     "metadata": {},
     "output_type": "execute_result"
    }
   ],
   "source": [
    "ThaiTextPrepKit.__version__"
   ]
  },
  {
   "cell_type": "code",
   "execution_count": 5,
   "metadata": {},
   "outputs": [],
   "source": [
    "test_texts = [\n",
    "    'baht net',\n",
    "    'bath net',\n",
    "    'bathnet',\n",
    "    'บาทเน็ต',\n",
    "    'บาต เน็ท',\n",
    "    'scb Bussinesss net',\n",
    "    'net'\n",
    "    ]"
   ]
  },
  {
   "cell_type": "code",
   "execution_count": 6,
   "metadata": {},
   "outputs": [
    {
     "name": "stdout",
     "output_type": "stream",
     "text": [
      "BAHTNET\n",
      "BAHTNET\n",
      "BAHTNET\n",
      "BAHTNET\n",
      "BAHTNET\n",
      "SCB Business Net\n",
      "อินเทอร์เน็ต\n"
     ]
    }
   ],
   "source": [
    "import polars as pl\n",
    "\n",
    "series = pl.Series(test_texts)\n",
    "pre_series = preprocess.preprocess_text_batches(series=series,\n",
    "                                   custom_dict=None,\n",
    "                                   keep_stopwords=True,\n",
    "                                   keep_format=True,\n",
    "                                   return_token_list=False,\n",
    "                                   lower_case=False,\n",
    "                                   include_pattern='[/()]')\n",
    "\n",
    "for t in pre_series:\n",
    "    print(t)"
   ]
  }
 ],
 "metadata": {
  "kernelspec": {
   "display_name": ".venv",
   "language": "python",
   "name": "python3"
  },
  "language_info": {
   "codemirror_mode": {
    "name": "ipython",
    "version": 3
   },
   "file_extension": ".py",
   "mimetype": "text/x-python",
   "name": "python",
   "nbconvert_exporter": "python",
   "pygments_lexer": "ipython3",
   "version": "3.11.9"
  }
 },
 "nbformat": 4,
 "nbformat_minor": 2
}

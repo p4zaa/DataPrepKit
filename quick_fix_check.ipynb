{
 "cells": [
  {
   "cell_type": "code",
   "execution_count": 1,
   "metadata": {},
   "outputs": [],
   "source": [
    "import ThaiTextPrepKit\n",
    "from ThaiTextPrepKit import polars_pretextkit as preprocess"
   ]
  },
  {
   "cell_type": "code",
   "execution_count": 2,
   "metadata": {},
   "outputs": [],
   "source": [
    "from ThaiTextPrepKit import typo_patterns"
   ]
  },
  {
   "cell_type": "code",
   "execution_count": 3,
   "metadata": {},
   "outputs": [
    {
     "data": {
      "text/plain": [
       "'2.2.1'"
      ]
     },
     "execution_count": 3,
     "metadata": {},
     "output_type": "execute_result"
    }
   ],
   "source": [
    "import re\n",
    "re.__version__"
   ]
  },
  {
   "cell_type": "code",
   "execution_count": 4,
   "metadata": {},
   "outputs": [
    {
     "data": {
      "text/plain": [
       "'1.2m'"
      ]
     },
     "execution_count": 4,
     "metadata": {},
     "output_type": "execute_result"
    }
   ],
   "source": [
    "ThaiTextPrepKit.__version__"
   ]
  },
  {
   "cell_type": "code",
   "execution_count": 8,
   "metadata": {},
   "outputs": [],
   "source": [
    "test_texts = [\n",
    "    'อินเตอร์เน็ต',\n",
    "    'business net',\n",
    "    'k-biz net',\n",
    "    'k-biznet',\n",
    "    'k biz',\n",
    "    'k-biz',\n",
    "    'k biz net',\n",
    "    'kbiz',\n",
    "    'kbiz net',\n",
    "    'bath เน็ต',\n",
    "    'bathเน็ต',\n",
    "    'bathnet',\n",
    "    'บาทเน็ต',\n",
    "    'บาทnet',\n",
    "    'บาท net',\n",
    "    'บาท',\n",
    "    'เน็ต',\n",
    "    'net',\n",
    "    'สาขาลุมพินี',\n",
    "    'ลุมพินี',\n",
    "    'อินเตอร์เน็ต',\n",
    "]"
   ]
  },
  {
   "cell_type": "code",
   "execution_count": 9,
   "metadata": {},
   "outputs": [
    {
     "name": "stdout",
     "output_type": "stream",
     "text": [
      "อินเทอร์เน็ต\n",
      "SCB Business Net\n",
      "K Biz Net\n",
      "K Biz Net\n",
      "K Biz Net\n",
      "K Biz Net\n",
      "K Biz Net\n",
      "K Biz Net\n",
      "K Biz Net\n",
      "BAHTNET\n",
      "BAHTNET\n",
      "BAHTNET\n",
      "BAHTNET\n",
      "BAHTNET\n",
      "BAHTNET\n",
      "บาท\n",
      "เน็ต\n",
      "net\n",
      "สาขาลุมรหัสผ่านี\n",
      "ลุมรหัสผ่านี\n",
      "อินเทอร์เน็ต\n"
     ]
    }
   ],
   "source": [
    "import polars as pl\n",
    "\n",
    "series = pl.Series(test_texts)\n",
    "pre_series = preprocess.preprocess_text_batches(series=series,\n",
    "                                   custom_dict=None,\n",
    "                                   keep_stopwords=True,\n",
    "                                   keep_format=True,\n",
    "                                   return_token_list=False,\n",
    "                                   lower_case=False,\n",
    "                                   include_pattern='[/()]',\n",
    "                                   #skip_patterns=skip_patterns,\n",
    "                                   patterns=typo_patterns.patterns)\n",
    "\n",
    "for t in pre_series:\n",
    "    print(t)"
   ]
  },
  {
   "cell_type": "code",
   "execution_count": 7,
   "metadata": {},
   "outputs": [
    {
     "data": {
      "text/html": [
       "<div><style>\n",
       ".dataframe > thead > tr,\n",
       ".dataframe > tbody > tr {\n",
       "  text-align: right;\n",
       "  white-space: pre-wrap;\n",
       "}\n",
       "</style>\n",
       "<small>shape: (20,)</small><table border=\"1\" class=\"dataframe\"><thead><tr><th></th></tr><tr><td>str</td></tr></thead><tbody><tr><td>&quot;อินเทอร์เน็ต&quot;</td></tr><tr><td>&quot;SCB Business N…</td></tr><tr><td>&quot;K Biz Net&quot;</td></tr><tr><td>&quot;K Biz Net&quot;</td></tr><tr><td>&quot;K Biz Net&quot;</td></tr><tr><td>&quot;K Biz Net&quot;</td></tr><tr><td>&quot;K Biz Net&quot;</td></tr><tr><td>&quot;K Biz Net&quot;</td></tr><tr><td>&quot;K Biz Net&quot;</td></tr><tr><td>&quot;BAHTNET&quot;</td></tr><tr><td>&quot;BAHTNET&quot;</td></tr><tr><td>&quot;BAHTNET&quot;</td></tr><tr><td>&quot;BAHTNET&quot;</td></tr><tr><td>&quot;BAHTNET&quot;</td></tr><tr><td>&quot;BAHTNET&quot;</td></tr><tr><td>&quot;บาท&quot;</td></tr><tr><td>&quot;เน็ต&quot;</td></tr><tr><td>&quot;net&quot;</td></tr><tr><td>&quot;สาขาลุมรหัสผ่า…</td></tr><tr><td>&quot;ลุมรหัสผ่านี&quot;</td></tr></tbody></table></div>"
      ],
      "text/plain": [
       "shape: (20,)\n",
       "Series: '' [str]\n",
       "[\n",
       "\t\"อินเทอร์เน็ต\"\n",
       "\t\"SCB Business N…\n",
       "\t\"K Biz Net\"\n",
       "\t\"K Biz Net\"\n",
       "\t\"K Biz Net\"\n",
       "\t\"K Biz Net\"\n",
       "\t\"K Biz Net\"\n",
       "\t\"K Biz Net\"\n",
       "\t\"K Biz Net\"\n",
       "\t\"BAHTNET\"\n",
       "\t\"BAHTNET\"\n",
       "\t\"BAHTNET\"\n",
       "\t\"BAHTNET\"\n",
       "\t\"BAHTNET\"\n",
       "\t\"BAHTNET\"\n",
       "\t\"บาท\"\n",
       "\t\"เน็ต\"\n",
       "\t\"net\"\n",
       "\t\"สาขาลุมรหัสผ่า…\n",
       "\t\"ลุมรหัสผ่านี\"\n",
       "]"
      ]
     },
     "execution_count": 7,
     "metadata": {},
     "output_type": "execute_result"
    }
   ],
   "source": [
    "pre_series"
   ]
  }
 ],
 "metadata": {
  "kernelspec": {
   "display_name": ".venv",
   "language": "python",
   "name": "python3"
  },
  "language_info": {
   "codemirror_mode": {
    "name": "ipython",
    "version": 3
   },
   "file_extension": ".py",
   "mimetype": "text/x-python",
   "name": "python",
   "nbconvert_exporter": "python",
   "pygments_lexer": "ipython3",
   "version": "3.11.9"
  }
 },
 "nbformat": 4,
 "nbformat_minor": 2
}

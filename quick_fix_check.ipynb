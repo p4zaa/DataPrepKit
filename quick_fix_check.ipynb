{
 "cells": [
  {
   "cell_type": "code",
   "execution_count": 1,
   "metadata": {},
   "outputs": [],
   "source": [
    "import ThaiTextPrepKit\n",
    "from ThaiTextPrepKit import polars_pretextkit as preprocess"
   ]
  },
  {
   "cell_type": "code",
   "execution_count": 2,
   "metadata": {},
   "outputs": [
    {
     "data": {
      "text/plain": [
       "'1.2c'"
      ]
     },
     "execution_count": 2,
     "metadata": {},
     "output_type": "execute_result"
    }
   ],
   "source": [
    "ThaiTextPrepKit.__version__"
   ]
  },
  {
   "cell_type": "code",
   "execution_count": 3,
   "metadata": {},
   "outputs": [],
   "source": [
    "test_texts = [\n",
    "    'เบอร์',\n",
    "    'เบอร์โทร',\n",
    "    'เบอโทรสัพท์',\n",
    "    'เบอโทรแอป',\n",
    "    'แอปเบอร์ไม่มีมีแต่เบอร์โทใครไม่รู้',\n",
    "    'แอป lotus&nbsp;&nbsp;เข้าเงื่อนไข',\n",
    "    'ผูกกับแอป แกรบ และแอป lotus&nbsp;&nbsp;เข้าเงื่อนไข cashback 5% รึไม่ค่ะ',\n",
    "    'แอป lotus&amp;nbsp;&amp;nbsp;เข้าเงื่อนไข',\n",
    "    'เวอนตรา',\n",
    "    'เงอนตรา',\n",
    "    'เงอนไข',\n",
    "    'เงอนู่'\n",
    "    ]"
   ]
  },
  {
   "cell_type": "code",
   "execution_count": 4,
   "metadata": {},
   "outputs": [],
   "source": [
    "import re\n",
    "skip_patterns = None #[re.compile(rf'(เบอ[ร]*[์]*โท[ร]*[สศ]ั[พบ][ท]*[์]*)|(เบอ[ร์]*โท[ร]*)|(เบอ(?!ะ)[ร]*[์]*)', re.IGNORECASE),]"
   ]
  },
  {
   "cell_type": "code",
   "execution_count": 5,
   "metadata": {},
   "outputs": [],
   "source": [
    "from ThaiTextPrepKit import typo_patterns"
   ]
  },
  {
   "cell_type": "code",
   "execution_count": 6,
   "metadata": {},
   "outputs": [
    {
     "name": "stdout",
     "output_type": "stream",
     "text": [
      "shape: (2,)\n",
      "Series: '' [str]\n",
      "[\n",
      "\t\"หมายเลข\"\n",
      "\t\"โทรศัพท์\"\n",
      "]\n",
      "shape: (2,)\n",
      "Series: '' [str]\n",
      "[\n",
      "\t\"หมายเลข\"\n",
      "\t\"โทรศัพท์\"\n",
      "]\n",
      "shape: (2,)\n",
      "Series: '' [str]\n",
      "[\n",
      "\t\"หมายเลข\"\n",
      "\t\"โทรศัพท์\"\n",
      "]\n",
      "shape: (3,)\n",
      "Series: '' [str]\n",
      "[\n",
      "\t\"หมายเลข\"\n",
      "\t\"โทรศัพท์\"\n",
      "\t\"แอปพลิเคชัน\"\n",
      "]\n",
      "shape: (12,)\n",
      "Series: '' [str]\n",
      "[\n",
      "\t\"แอปพลิเคชัน\"\n",
      "\t\"หมายเลข\"\n",
      "\t\"โทรศัพท์\"\n",
      "\t\"ไม่\"\n",
      "\t\"มี\"\n",
      "\t…\n",
      "\t\"หมายเลข\"\n",
      "\t\"โทรศัพท์\"\n",
      "\t\"ใคร\"\n",
      "\t\"ไม่\"\n",
      "\t\"รู้\"\n",
      "]\n",
      "shape: (4,)\n",
      "Series: '' [str]\n",
      "[\n",
      "\t\"แอปพลิเคชัน\"\n",
      "\t\"lotus\"\n",
      "\t\"เข้า\"\n",
      "\t\"เงื่อนไข\"\n",
      "]\n",
      "shape: (16,)\n",
      "Series: '' [str]\n",
      "[\n",
      "\t\"ผูก\"\n",
      "\t\"กับ\"\n",
      "\t\"แอปพลิเคชัน\"\n",
      "\t\"แก\"\n",
      "\t\"รบ\"\n",
      "\t…\n",
      "\t\"5\"\n",
      "\t\"%\"\n",
      "\t\"รึ\"\n",
      "\t\"ไม่\"\n",
      "\t\"ค่ะ\"\n",
      "]\n",
      "shape: (4,)\n",
      "Series: '' [str]\n",
      "[\n",
      "\t\"แอปพลิเคชัน\"\n",
      "\t\"lotus\"\n",
      "\t\"เข้า\"\n",
      "\t\"เงื่อนไข\"\n",
      "]\n",
      "shape: (1,)\n",
      "Series: '' [str]\n",
      "[\n",
      "\t\"เงินตรา\"\n",
      "]\n",
      "shape: (1,)\n",
      "Series: '' [str]\n",
      "[\n",
      "\t\"เงินตรา\"\n",
      "]\n",
      "shape: (2,)\n",
      "Series: '' [str]\n",
      "[\n",
      "\t\"เงอน\"\n",
      "\t\"ไข\"\n",
      "]\n",
      "shape: (1,)\n",
      "Series: '' [str]\n",
      "[\n",
      "\t\"เงอนู่\"\n",
      "]\n"
     ]
    }
   ],
   "source": [
    "import polars as pl\n",
    "\n",
    "series = pl.Series(test_texts)\n",
    "pre_series = preprocess.preprocess_text_batches(series=series,\n",
    "                                   custom_dict=None,\n",
    "                                   keep_stopwords=True,\n",
    "                                   keep_format=False,\n",
    "                                   return_token_list=True,\n",
    "                                   lower_case=False,\n",
    "                                   include_pattern='[/()]',\n",
    "                                   skip_patterns=skip_patterns,\n",
    "                                   patterns=typo_patterns.patterns)\n",
    "\n",
    "for t in pre_series:\n",
    "    print(t)"
   ]
  },
  {
   "cell_type": "code",
   "execution_count": 7,
   "metadata": {},
   "outputs": [
    {
     "data": {
      "text/html": [
       "<div><style>\n",
       ".dataframe > thead > tr,\n",
       ".dataframe > tbody > tr {\n",
       "  text-align: right;\n",
       "  white-space: pre-wrap;\n",
       "}\n",
       "</style>\n",
       "<small>shape: (12,)</small><table border=\"1\" class=\"dataframe\"><thead><tr><th></th></tr><tr><td>list[str]</td></tr></thead><tbody><tr><td>[&quot;หมายเลข&quot;, &quot;โทรศัพท์&quot;]</td></tr><tr><td>[&quot;หมายเลข&quot;, &quot;โทรศัพท์&quot;]</td></tr><tr><td>[&quot;หมายเลข&quot;, &quot;โทรศัพท์&quot;]</td></tr><tr><td>[&quot;หมายเลข&quot;, &quot;โทรศัพท์&quot;, &quot;แอปพลิเคชัน&quot;]</td></tr><tr><td>[&quot;แอปพลิเคชัน&quot;, &quot;หมายเลข&quot;, … &quot;รู้&quot;]</td></tr><tr><td>&hellip;</td></tr><tr><td>[&quot;แอปพลิเคชัน&quot;, &quot;lotus&quot;, … &quot;เงื่อนไข&quot;]</td></tr><tr><td>[&quot;เงินตรา&quot;]</td></tr><tr><td>[&quot;เงินตรา&quot;]</td></tr><tr><td>[&quot;เงอน&quot;, &quot;ไข&quot;]</td></tr><tr><td>[&quot;เงอนู่&quot;]</td></tr></tbody></table></div>"
      ],
      "text/plain": [
       "shape: (12,)\n",
       "Series: '' [list[str]]\n",
       "[\n",
       "\t[\"หมายเลข\", \"โทรศัพท์\"]\n",
       "\t[\"หมายเลข\", \"โทรศัพท์\"]\n",
       "\t[\"หมายเลข\", \"โทรศัพท์\"]\n",
       "\t[\"หมายเลข\", \"โทรศัพท์\", \"แอปพลิเคชัน\"]\n",
       "\t[\"แอปพลิเคชัน\", \"หมายเลข\", … \"รู้\"]\n",
       "\t…\n",
       "\t[\"แอปพลิเคชัน\", \"lotus\", … \"เงื่อนไข\"]\n",
       "\t[\"เงินตรา\"]\n",
       "\t[\"เงินตรา\"]\n",
       "\t[\"เงอน\", \"ไข\"]\n",
       "\t[\"เงอนู่\"]\n",
       "]"
      ]
     },
     "execution_count": 7,
     "metadata": {},
     "output_type": "execute_result"
    }
   ],
   "source": [
    "pre_series"
   ]
  }
 ],
 "metadata": {
  "kernelspec": {
   "display_name": ".venv",
   "language": "python",
   "name": "python3"
  },
  "language_info": {
   "codemirror_mode": {
    "name": "ipython",
    "version": 3
   },
   "file_extension": ".py",
   "mimetype": "text/x-python",
   "name": "python",
   "nbconvert_exporter": "python",
   "pygments_lexer": "ipython3",
   "version": "3.9.6"
  }
 },
 "nbformat": 4,
 "nbformat_minor": 2
}

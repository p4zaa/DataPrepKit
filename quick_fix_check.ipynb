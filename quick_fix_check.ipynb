{
 "cells": [
  {
   "cell_type": "code",
   "execution_count": 1,
   "metadata": {},
   "outputs": [],
   "source": [
    "import ThaiTextPrepKit\n",
    "from ThaiTextPrepKit import polars_pretextkit as preprocess"
   ]
  },
  {
   "cell_type": "code",
   "execution_count": 2,
   "metadata": {},
   "outputs": [
    {
     "data": {
      "text/plain": [
       "'1.2a'"
      ]
     },
     "execution_count": 2,
     "metadata": {},
     "output_type": "execute_result"
    }
   ],
   "source": [
    "ThaiTextPrepKit.__version__"
   ]
  },
  {
   "cell_type": "code",
   "execution_count": 3,
   "metadata": {},
   "outputs": [],
   "source": [
    "test_texts = [\n",
    "    'App ใช้ง่าย ไม่ซับซ้อน ทันสมัย',\n",
    "    'RD นั่นนู่นนี่',\n",
    "    'เจ้าหน้าที่ทีคัสเมอร์เซอร์วิสให้คำปรึกษาดีดูแลดี',\n",
    "    'RM จะซัพพตตลอด มีปัญหาอะไรก็จะช่วยเหลือตลอด',\n",
    "    'ค่าะรรมเนียมการโอนจ่ายคิดให้ราคาถูก.',\n",
    "    'เวลามีปัญหาติดต่อแต่ละแผนกได้เลยมีแผนกรับผิดชอบชัดเจน เช่น L/C, tr',\n",
    "    'appใช้งานได้ดีกับตู้ atm และ apple'\n",
    "    ]"
   ]
  },
  {
   "cell_type": "code",
   "execution_count": 7,
   "metadata": {},
   "outputs": [
    {
     "name": "stdout",
     "output_type": "stream",
     "text": [
      "แอปพลิเคชัน ใช้ง่าย ไม่ซับซ้อน ทันสมัย\n",
      "RD นั่นนู่นนี่\n",
      "เจ้าหน้าที่ที Customer Service ให้คำปรึกษาดีดูแลดี\n",
      "RM จะซัพพอร์ตตลอด มีปัญหาอะไรก็จะช่วยเหลือตลอด\n",
      "ค่าธรรมเนียมการโอนจ่ายคิดให้ราคาถูก\n",
      "เวลามีปัญหาติดต่อแต่ละแผนกได้เลยมีแผนกรับผิดชอบชัดเจน เช่น L/C, tr\n",
      "แอปพลิเคชันใช้งานได้ดีกับเครื่องอัตโนมัติ และ แอปเปิ้ล\n"
     ]
    }
   ],
   "source": [
    "import polars as pl\n",
    "\n",
    "series = pl.Series(test_texts)\n",
    "pre_series = preprocess.preprocess_text_batches(series=series,\n",
    "                                   custom_dict=None,\n",
    "                                   keep_stopwords=True,\n",
    "                                   keep_format=True,\n",
    "                                   return_token_list=False,\n",
    "                                   lower_case=False,\n",
    "                                   include_pattern='/')\n",
    "\n",
    "for t in pre_series:\n",
    "    print(t)"
   ]
  }
 ],
 "metadata": {
  "kernelspec": {
   "display_name": ".venv",
   "language": "python",
   "name": "python3"
  },
  "language_info": {
   "codemirror_mode": {
    "name": "ipython",
    "version": 3
   },
   "file_extension": ".py",
   "mimetype": "text/x-python",
   "name": "python",
   "nbconvert_exporter": "python",
   "pygments_lexer": "ipython3",
   "version": "3.9.6"
  }
 },
 "nbformat": 4,
 "nbformat_minor": 2
}
